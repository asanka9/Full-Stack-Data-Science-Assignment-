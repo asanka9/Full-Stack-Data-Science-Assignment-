{
 "cells": [
  {
   "cell_type": "markdown",
   "metadata": {},
   "source": [
    "# 01)"
   ]
  },
  {
   "cell_type": "code",
   "execution_count": 1,
   "metadata": {},
   "outputs": [
    {
     "name": "stdout",
     "output_type": "stream",
     "text": [
      "Enter number of numbers you wish to compute LCM : 4\n",
      "Enter Number : 10\n",
      "Enter Number : 20\n",
      "Enter Number : 30\n",
      "Enter Number : 40\n",
      "Anwser is 120\n"
     ]
    }
   ],
   "source": [
    "def genarateLCM(list_):\n",
    "    maxNum_ = max(list_)\n",
    "    list_.remove(maxNum_)\n",
    "    run = True\n",
    "    count = 1\n",
    "    while run:\n",
    "        maxNum = maxNum_ * count\n",
    "        for item in range(len(list_)):\n",
    "            if(maxNum % list_[item] == 0):\n",
    "                if(item == (len(list_)-1)):\n",
    "                    run = False\n",
    "                    return maxNum\n",
    "                    break\n",
    "                else:\n",
    "                    continue\n",
    "            else:\n",
    "                count = count + 1\n",
    "                break\n",
    "    \n",
    "num_of_items = int(input('Enter number of numbers you wish to compute LCM : '))\n",
    "list_ = []\n",
    "for i in range(num_of_items):\n",
    "    list_.append(int(input('Enter Number : ')))\n",
    "    \n",
    "print(f'Anwser is {genarateLCM(list_)}')"
   ]
  },
  {
   "cell_type": "markdown",
   "metadata": {},
   "source": [
    "# 02)"
   ]
  },
  {
   "cell_type": "code",
   "execution_count": 2,
   "metadata": {},
   "outputs": [
    {
     "name": "stdout",
     "output_type": "stream",
     "text": [
      "Enter number of numbers you wish to compute LCM : 4\n",
      "Enter Number : 10\n",
      "Enter Number : 20\n",
      "Enter Number : 30\n",
      "Enter Number : 40\n",
      "Anwser is 10\n"
     ]
    }
   ],
   "source": [
    "def getDivideFactors(a,index): \n",
    "    l = []\n",
    "    for num in range(1,a+1):\n",
    "        if(a%num==0):\n",
    "            l.append(num)\n",
    "    return list(reversed(l[:-1]))[index]\n",
    "\n",
    "\n",
    "def genarateHCF(list_):\n",
    "    list_.sort()\n",
    "\n",
    "    # Find Max Difference Between Items\n",
    "    min_difference = max(list_)\n",
    "    for i in range(len(list_)-1):\n",
    "        dif = (list_[i+1]-list_[i])\n",
    "        if(dif<min_difference):\n",
    "            min_difference = dif\n",
    "        \n",
    "    c1 =0        \n",
    "    for index in range(len(list_)):\n",
    "        if((list_[index]%min_difference)==0):\n",
    "            if(index == len(list_)-1):\n",
    "                return min_difference\n",
    "                break\n",
    "            else:\n",
    "                continue\n",
    "        else:\n",
    "            min_difference = getDivideFactors(min_difference,c1)\n",
    "            c1 = c1 + 1\n",
    "            \n",
    "num_of_items = int(input('Enter number of numbers you wish to compute LCM : '))\n",
    "list_ = []\n",
    "for i in range(num_of_items):\n",
    "    list_.append(int(input('Enter Number : ')))\n",
    "    \n",
    "print(f'Anwser is {genarateHCF(list_)}')"
   ]
  },
  {
   "cell_type": "markdown",
   "metadata": {},
   "source": [
    "# 03)"
   ]
  },
  {
   "cell_type": "code",
   "execution_count": 3,
   "metadata": {},
   "outputs": [
    {
     "name": "stdout",
     "output_type": "stream",
     "text": [
      "Input Decimal Value8\n",
      "The decimal value of 8 is:\n",
      "Binary : 0b1000\n",
      "Octal : 0o10\n",
      "Hexadecimal : 0x8\n"
     ]
    }
   ],
   "source": [
    "dec = int(input('Input Decimal Value'))\n",
    "\n",
    "print(\"The decimal value of\", dec, \"is:\")\n",
    "print( f\"Binary : {bin(dec)}\")\n",
    "print(f\"Octal : {oct(dec) }\")\n",
    "print(f\"Hexadecimal : {hex(dec)}\")"
   ]
  },
  {
   "cell_type": "markdown",
   "metadata": {},
   "source": [
    "# 04)"
   ]
  },
  {
   "cell_type": "code",
   "execution_count": 5,
   "metadata": {},
   "outputs": [
    {
     "name": "stdout",
     "output_type": "stream",
     "text": [
      "Enter Charactor : A\n",
      "The ASCII value of A is 65\n"
     ]
    }
   ],
   "source": [
    "char  = input('Enter Charactor : ') \n",
    "print(f\"The ASCII value of {char} is {ord(char)}\" )"
   ]
  },
  {
   "cell_type": "markdown",
   "metadata": {},
   "source": [
    "# 05)"
   ]
  },
  {
   "cell_type": "code",
   "execution_count": 6,
   "metadata": {},
   "outputs": [
    {
     "name": "stdout",
     "output_type": "stream",
     "text": [
      "Select operation 4 Calculator : \n",
      "1.Add\n",
      "2.Subtract\n",
      "3.Multiply\n",
      "4.Divide\n",
      "Q.Quit\n",
      "Enter Your choice  : 3\n",
      "Enter Number 01 : 23\n",
      "Enter Number 02 : 3\n",
      "===========================\n",
      "69.0\n",
      "===========================\n",
      "Enter Your choice  : Q\n",
      "Good Bye ! \n"
     ]
    }
   ],
   "source": [
    "def add(x, y):\n",
    "    return x + y\n",
    "\n",
    "def subtract(x, y):\n",
    "    return x - y\n",
    "\n",
    "def multiply(x, y):\n",
    "    return x * y\n",
    "\n",
    "def divide(x, y):\n",
    "    return x / y\n",
    "\n",
    "def getValue(choice,num1,num2):\n",
    "    if choice == '1':\n",
    "        return add(num1,num2)\n",
    "    elif choice =='2':\n",
    "        return subtract(num1,num2)\n",
    "    elif choice =='3':\n",
    "        return multiply(num1,num2)\n",
    "    elif choice =='4':\n",
    "        return divide(num1,num2)\n",
    "\n",
    "\n",
    "print(\"Select operation 4 Calculator : \")\n",
    "print(\"1.Add\")\n",
    "print(\"2.Subtract\")\n",
    "print(\"3.Multiply\")\n",
    "print(\"4.Divide\")\n",
    "print(\"Q.Quit\")\n",
    "\n",
    "run = True\n",
    "\n",
    "\n",
    "while run:\n",
    "    choice = input(\"Enter Your choice  : \")\n",
    "    if choice in ('1', '2', '3', '4','Q'):\n",
    "        if choice in ('1','2','3','4'):\n",
    "            num_1 = float(input('Enter Number 01 : '))\n",
    "            num_2 = float(input('Enter Number 02 : '))\n",
    "            print('===========================')\n",
    "            print(getValue(choice,num_1,num_2))\n",
    "            print('===========================')\n",
    "        else:\n",
    "            print('Good Bye ! ')\n",
    "            run = False\n",
    "    else:\n",
    "        print(\"Invalid Input\")"
   ]
  },
  {
   "cell_type": "code",
   "execution_count": null,
   "metadata": {},
   "outputs": [],
   "source": []
  },
  {
   "cell_type": "code",
   "execution_count": null,
   "metadata": {},
   "outputs": [],
   "source": []
  }
 ],
 "metadata": {
  "kernelspec": {
   "display_name": "Python 3",
   "language": "python",
   "name": "python3"
  },
  "language_info": {
   "codemirror_mode": {
    "name": "ipython",
    "version": 3
   },
   "file_extension": ".py",
   "mimetype": "text/x-python",
   "name": "python",
   "nbconvert_exporter": "python",
   "pygments_lexer": "ipython3",
   "version": "3.8.5"
  }
 },
 "nbformat": 4,
 "nbformat_minor": 4
}
