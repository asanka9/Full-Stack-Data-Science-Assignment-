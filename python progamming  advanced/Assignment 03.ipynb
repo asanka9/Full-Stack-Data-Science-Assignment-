{
 "cells": [
  {
   "cell_type": "markdown",
   "metadata": {},
   "source": [
    "# 1)"
   ]
  },
  {
   "cell_type": "code",
   "execution_count": 1,
   "metadata": {},
   "outputs": [
    {
     "name": "stdout",
     "output_type": "stream",
     "text": [
      "24\n",
      "0\n",
      "144\n",
      "1.0\n",
      "-1\n"
     ]
    }
   ],
   "source": [
    "def arithmetic_operation(txt):\n",
    "    list_ = txt.split()\n",
    "    num_1 = int(list_[0])\n",
    "    ope_ = list_[1]\n",
    "    num_2 =  int(list_[2])\n",
    "    if(ope_=='+'):\n",
    "        return num_1 + num_2\n",
    "    elif(ope_ == '-'):\n",
    "        return num_1 - num_2\n",
    "    elif(ope_ == '*'):\n",
    "        return num_1 * num_2\n",
    "    elif(ope_ == '//'):\n",
    "        if(num_2 == 0):\n",
    "            return -1\n",
    "        else:\n",
    "            return num_1 / num_2\n",
    "        \n",
    "print(arithmetic_operation('12 + 12'))\n",
    "print(arithmetic_operation('12 - 12'))\n",
    "print(arithmetic_operation('12 * 12'))\n",
    "print(arithmetic_operation('12 // 12'))\n",
    "print(arithmetic_operation('12 // 0'))"
   ]
  },
  {
   "cell_type": "markdown",
   "metadata": {},
   "source": [
    "# 2)"
   ]
  },
  {
   "cell_type": "code",
   "execution_count": 2,
   "metadata": {},
   "outputs": [],
   "source": [
    "import math  \n",
    "\n",
    "def perimeter(list_):\n",
    "    sum = 0\n",
    "    for i in range(3):\n",
    "        list_1 = list_[i]\n",
    "        num = (i+1)%3\n",
    "        list_2 = list_[num]\n",
    "        sum =sum + math.sqrt(((list_1[0]-list_2[0])**2)+(list_1[1]-list_2[1])**2)\n",
    "    print(sum)\n",
    "        "
   ]
  },
  {
   "cell_type": "code",
   "execution_count": 3,
   "metadata": {},
   "outputs": [
    {
     "name": "stdout",
     "output_type": "stream",
     "text": [
      "47.07918859608948\n"
     ]
    }
   ],
   "source": [
    "perimeter([ [15, 7], [5, 22], [11, 1] ])"
   ]
  },
  {
   "cell_type": "code",
   "execution_count": 4,
   "metadata": {},
   "outputs": [
    {
     "name": "stdout",
     "output_type": "stream",
     "text": [
      "3.414213562373095\n"
     ]
    }
   ],
   "source": [
    "perimeter( [ [0, 0], [0, 1], [1, 0] ] )"
   ]
  },
  {
   "cell_type": "code",
   "execution_count": 5,
   "metadata": {},
   "outputs": [
    {
     "name": "stdout",
     "output_type": "stream",
     "text": [
      "68.2842712474619\n"
     ]
    }
   ],
   "source": [
    "perimeter( [ [-10, -10], [10, 10 ], [-10, 10] ] )"
   ]
  },
  {
   "cell_type": "markdown",
   "metadata": {},
   "source": [
    "# 3)"
   ]
  },
  {
   "cell_type": "code",
   "execution_count": 6,
   "metadata": {},
   "outputs": [],
   "source": [
    "import numpy as np"
   ]
  },
  {
   "cell_type": "code",
   "execution_count": 7,
   "metadata": {},
   "outputs": [
    {
     "name": "stdout",
     "output_type": "stream",
     "text": [
      "3.0\n",
      "4.0\n",
      "2.0\n"
     ]
    }
   ],
   "source": [
    "def tallest_skyscraper(list_):\n",
    "    len_1 = len(list_)\n",
    "    len_2 = len(list_[0])\n",
    "    sum_list =  list(np.zeros(len_2))\n",
    "    for i in range(len_2):\n",
    "        for item in list_:\n",
    "            sum_list[i] = sum_list[i]+item[i]\n",
    "    print(max(sum_list))\n",
    "            \n",
    "tallest_skyscraper([\n",
    "    [0, 0, 0, 0],\n",
    "    [0, 1, 0, 0],\n",
    "    [0, 1, 1, 0],\n",
    "    [1, 1, 1, 1]\n",
    "]) \n",
    "\n",
    "tallest_skyscraper([\n",
    "    [0, 1, 0, 0],\n",
    "    [0, 1, 0, 0],\n",
    "    [0, 1, 1, 0],\n",
    "    [1, 1, 1, 1]\n",
    "])\n",
    "\n",
    "tallest_skyscraper([\n",
    "    [0, 0, 0, 0],\n",
    "    [0, 0, 0, 0],\n",
    "    [1, 1, 1, 0],\n",
    "    [1, 1, 1, 1]\n",
    "])"
   ]
  },
  {
   "cell_type": "markdown",
   "metadata": {},
   "source": [
    "# 04)"
   ]
  },
  {
   "cell_type": "code",
   "execution_count": 8,
   "metadata": {},
   "outputs": [],
   "source": [
    "def bonus(days):\n",
    "    sum = 0\n",
    "    if(days > 32):\n",
    "        day_1 = days - 32\n",
    "        if(day_1 < 8):\n",
    "            sum = 325 * day_1\n",
    "        elif (day_1 < 15):\n",
    "            day_3 = day_1 - 8\n",
    "            sum += 325 * 8\n",
    "            sum += 550 * (day_3-1)\n",
    "        else:\n",
    "            day_4 = day_1  - 15\n",
    "            sum += 325 * 8\n",
    "            sum += 550 * 8\n",
    "            sum += 600 * (day_4-1 )\n",
    "    return sum\n",
    "        "
   ]
  },
  {
   "cell_type": "code",
   "execution_count": 9,
   "metadata": {},
   "outputs": [
    {
     "name": "stdout",
     "output_type": "stream",
     "text": [
      "0\n",
      "1625\n",
      "8200\n"
     ]
    }
   ],
   "source": [
    "print(bonus(15))\n",
    "print(bonus(37))\n",
    "print(bonus(50))"
   ]
  },
  {
   "cell_type": "code",
   "execution_count": null,
   "metadata": {},
   "outputs": [],
   "source": []
  },
  {
   "cell_type": "code",
   "execution_count": null,
   "metadata": {},
   "outputs": [],
   "source": []
  }
 ],
 "metadata": {
  "kernelspec": {
   "display_name": "Python 3",
   "language": "python",
   "name": "python3"
  },
  "language_info": {
   "codemirror_mode": {
    "name": "ipython",
    "version": 3
   },
   "file_extension": ".py",
   "mimetype": "text/x-python",
   "name": "python",
   "nbconvert_exporter": "python",
   "pygments_lexer": "ipython3",
   "version": "3.8.5"
  }
 },
 "nbformat": 4,
 "nbformat_minor": 4
}
