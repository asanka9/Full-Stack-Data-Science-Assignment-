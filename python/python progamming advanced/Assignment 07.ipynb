{
 "cells": [
  {
   "cell_type": "markdown",
   "metadata": {},
   "source": [
    "https://drive.google.com/file/d/1gv-zWLDU73T7OTpEt2zDohUicfkF144l/view"
   ]
  },
  {
   "cell_type": "markdown",
   "metadata": {},
   "source": [
    "# 01)"
   ]
  },
  {
   "cell_type": "markdown",
   "metadata": {},
   "source": [
    "count_layers([\n",
    "&quot;AAAAAAAAAAA&quot;,\n",
    "&quot;AABBBBBBBAA&quot;,\n",
    "&quot;AABCCCCCBAA&quot;,\n",
    "&quot;AABCAAACBAA&quot;,\n",
    "&quot;AABCADACBAA&quot;,\n",
    "&quot;AABCAAACBAA&quot;,\n",
    "&quot;AABCCCCCBAA&quot;,\n",
    "&quot;AABBBBBBBAA&quot;,\n",
    "&quot;AAAAAAAAAAA&quot;\n",
    "])"
   ]
  },
  {
   "cell_type": "code",
   "execution_count": 7,
   "metadata": {},
   "outputs": [],
   "source": [
    "def count_layers(list_):\n",
    "    middle = int(len(list_)/2)\n",
    "    middle_str = list_[middle]\n",
    "    previous_char = ''\n",
    "    count_ = 0\n",
    "    for char in middle_str:\n",
    "        if(char != previous_char):\n",
    "            count_+=1\n",
    "        previous_char = char\n",
    "    return int(count_/2 + 1)\n",
    "            "
   ]
  },
  {
   "cell_type": "code",
   "execution_count": 8,
   "metadata": {},
   "outputs": [
    {
     "data": {
      "text/plain": [
       "5"
      ]
     },
     "execution_count": 8,
     "metadata": {},
     "output_type": "execute_result"
    }
   ],
   "source": [
    "count_layers([ \"AAAAAAAAAAA\", \"AABBBBBBBAA\", \"AABCCCCCBAA\", \"AABCAAACBAA\", \"AABCADACBAA\", \"AABCAAACBAA\", \"AABCCCCCBAA\", \"AABBBBBBBAA\", \"AAAAAAAAAAA\" ])"
   ]
  },
  {
   "cell_type": "markdown",
   "metadata": {},
   "source": [
    "count_layers([\n",
    "&quot;AAAAAAAAA&quot;,\n",
    "&quot;ABBBBBBBA&quot;,\n",
    "&quot;ABBAAABBA&quot;,\n",
    "&quot;ABBBBBBBA&quot;,\n",
    "&quot;AAAAAAAAA&quot;\n",
    "])"
   ]
  },
  {
   "cell_type": "code",
   "execution_count": 9,
   "metadata": {},
   "outputs": [
    {
     "data": {
      "text/plain": [
       "3"
      ]
     },
     "execution_count": 9,
     "metadata": {},
     "output_type": "execute_result"
    }
   ],
   "source": [
    "count_layers([ \"AAAAAAAAA\", \"ABBBBBBBA\", \"ABBAAABBA\", \"ABBBBBBBA\", \"AAAAAAAAA\" ])"
   ]
  },
  {
   "cell_type": "markdown",
   "metadata": {},
   "source": [
    "count_layers([\n",
    "&quot;AAAA&quot;,\n",
    "&quot;ABBA&quot;,\n",
    "&quot;AAAA&quot;\n",
    "])"
   ]
  },
  {
   "cell_type": "code",
   "execution_count": 10,
   "metadata": {},
   "outputs": [
    {
     "data": {
      "text/plain": [
       "2"
      ]
     },
     "execution_count": 10,
     "metadata": {},
     "output_type": "execute_result"
    }
   ],
   "source": [
    "count_layers([ \"AAAA\", \"ABBA\", \"AAAA\" ])"
   ]
  },
  {
   "cell_type": "markdown",
   "metadata": {},
   "source": [
    "# 02)"
   ]
  },
  {
   "cell_type": "code",
   "execution_count": 17,
   "metadata": {},
   "outputs": [],
   "source": [
    "def unique_styles(list_):\n",
    "    s = set()\n",
    "    for item in list_:\n",
    "        t_list = item.split(',')\n",
    "        for word in t_list:\n",
    "            s.add(word)\n",
    "    return len(s)"
   ]
  },
  {
   "cell_type": "markdown",
   "metadata": {},
   "source": [
    "unique_styles([\n",
    "&quot;Dub,Dancehall&quot;,\n",
    "&quot;Industrial,Heavy Metal&quot;,\n",
    "&quot;Techno,Dubstep&quot;,\n",
    "&quot;Synth-pop,Euro-Disco&quot;,\n",
    "&quot;Industrial,Techno,Minimal&quot;\n",
    "])"
   ]
  },
  {
   "cell_type": "code",
   "execution_count": 18,
   "metadata": {},
   "outputs": [
    {
     "data": {
      "text/plain": [
       "9"
      ]
     },
     "execution_count": 18,
     "metadata": {},
     "output_type": "execute_result"
    }
   ],
   "source": [
    "unique_styles([ \"Dub,Dancehall\", \"Industrial,Heavy Metal\", \"Techno,Dubstep\", \"Synth-pop,Euro-Disco\", \"Industrial,Techno,Minimal\" ])"
   ]
  },
  {
   "cell_type": "markdown",
   "metadata": {},
   "source": [
    "unique_styles([\n",
    "\n",
    "&quot;Soul&quot;,\n",
    "&quot;House,Folk&quot;,\n",
    "&quot;Trance,Downtempo,Big Beat,House&quot;,\n",
    "&quot;Deep House&quot;,\n",
    "&quot;Soul&quot;\n",
    "])"
   ]
  },
  {
   "cell_type": "code",
   "execution_count": 19,
   "metadata": {},
   "outputs": [
    {
     "data": {
      "text/plain": [
       "7"
      ]
     },
     "execution_count": 19,
     "metadata": {},
     "output_type": "execute_result"
    }
   ],
   "source": [
    "unique_styles([\n",
    "\n",
    "\"Soul\", \"House,Folk\", \"Trance,Downtempo,Big Beat,House\", \"Deep House\", \"Soul\" ])"
   ]
  },
  {
   "cell_type": "markdown",
   "metadata": {},
   "source": [
    "# 03)"
   ]
  },
  {
   "cell_type": "code",
   "execution_count": null,
   "metadata": {},
   "outputs": [],
   "source": []
  },
  {
   "cell_type": "code",
   "execution_count": null,
   "metadata": {},
   "outputs": [],
   "source": []
  },
  {
   "cell_type": "code",
   "execution_count": null,
   "metadata": {},
   "outputs": [],
   "source": []
  },
  {
   "cell_type": "code",
   "execution_count": null,
   "metadata": {},
   "outputs": [],
   "source": []
  },
  {
   "cell_type": "markdown",
   "metadata": {},
   "source": [
    "# 05)"
   ]
  },
  {
   "cell_type": "code",
   "execution_count": 38,
   "metadata": {},
   "outputs": [],
   "source": [
    "def rearranged_difference(num):\n",
    "    str_ = str(num)\n",
    "    list_ = []\n",
    "    for s in str_:\n",
    "        list_.append(int(s))\n",
    "    list_.sort()\n",
    "    min = int(''.join([str(elem) for elem in list_]))\n",
    "    list_.reverse()\n",
    "    max = int(''.join([str(elem) for elem in list_]) )\n",
    "    return (max - min)"
   ]
  },
  {
   "cell_type": "code",
   "execution_count": 39,
   "metadata": {},
   "outputs": [
    {
     "name": "stdout",
     "output_type": "stream",
     "text": [
      "988722\n"
     ]
    }
   ],
   "source": [
    "rearranged_difference(972882)"
   ]
  },
  {
   "cell_type": "code",
   "execution_count": 40,
   "metadata": {},
   "outputs": [
    {
     "name": "stdout",
     "output_type": "stream",
     "text": [
      "7733200\n"
     ]
    }
   ],
   "source": [
    "rearranged_difference(3320707)"
   ]
  },
  {
   "cell_type": "code",
   "execution_count": 41,
   "metadata": {},
   "outputs": [
    {
     "name": "stdout",
     "output_type": "stream",
     "text": [
      "91000\n"
     ]
    }
   ],
   "source": [
    "rearranged_difference(90010)"
   ]
  },
  {
   "cell_type": "code",
   "execution_count": null,
   "metadata": {},
   "outputs": [],
   "source": []
  }
 ],
 "metadata": {
  "kernelspec": {
   "display_name": "Python 3",
   "language": "python",
   "name": "python3"
  },
  "language_info": {
   "codemirror_mode": {
    "name": "ipython",
    "version": 3
   },
   "file_extension": ".py",
   "mimetype": "text/x-python",
   "name": "python",
   "nbconvert_exporter": "python",
   "pygments_lexer": "ipython3",
   "version": "3.8.5"
  }
 },
 "nbformat": 4,
 "nbformat_minor": 4
}
