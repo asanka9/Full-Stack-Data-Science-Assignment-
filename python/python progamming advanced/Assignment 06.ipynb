{
 "cells": [
  {
   "cell_type": "markdown",
   "metadata": {},
   "source": [
    "# 01)"
   ]
  },
  {
   "cell_type": "markdown",
   "metadata": {},
   "source": [
    "find_the_difference(&quot;abcd&quot;, &quot;abcde&quot;) ➞ &quot;e&quot;"
   ]
  },
  {
   "cell_type": "code",
   "execution_count": 66,
   "metadata": {},
   "outputs": [],
   "source": [
    "def find_the_difference(word_1,word_2):\n",
    "    len_1 = len(word_1)\n",
    "    len_2 = len(word_2)\n",
    "    difference = abs(len_1 - len_2)\n",
    "    word__1 = word_1 if len_1 > len_2 else word_2\n",
    "    word__2 = word_2 if len_1 > len_2 else word_1\n",
    "    # Check With End\n",
    "    difference = len(word__2)\n",
    "    #print(word__1[-difference:])\n",
    "    if(word__1[-difference:] == word__2[-difference:] ):\n",
    "        print(word__1[:-difference])\n",
    "    if(word__1[:difference] == word__2[:difference] ):\n",
    "        print(word__1[difference:])"
   ]
  },
  {
   "cell_type": "markdown",
   "metadata": {},
   "source": [
    "find_the_difference(&quot;abcd&quot;, &quot;abcde&quot;)"
   ]
  },
  {
   "cell_type": "code",
   "execution_count": 67,
   "metadata": {
    "scrolled": true
   },
   "outputs": [
    {
     "name": "stdout",
     "output_type": "stream",
     "text": [
      "e\n"
     ]
    }
   ],
   "source": [
    "find_the_difference(\"abcd\", \"abcde\")"
   ]
  },
  {
   "cell_type": "markdown",
   "metadata": {},
   "source": [
    "find_the_difference(&quot;&quot;, &quot;y&quot;)"
   ]
  },
  {
   "cell_type": "code",
   "execution_count": 68,
   "metadata": {},
   "outputs": [
    {
     "name": "stdout",
     "output_type": "stream",
     "text": [
      "y\n"
     ]
    }
   ],
   "source": [
    "find_the_difference(\"\", \"y\")"
   ]
  },
  {
   "cell_type": "markdown",
   "metadata": {},
   "source": [
    "find_the_difference(&quot;ae&quot;, &quot;aea&quot;)"
   ]
  },
  {
   "cell_type": "code",
   "execution_count": 69,
   "metadata": {},
   "outputs": [
    {
     "name": "stdout",
     "output_type": "stream",
     "text": [
      "a\n"
     ]
    }
   ],
   "source": [
    "find_the_difference(\"ae\", \"aea\")"
   ]
  },
  {
   "cell_type": "markdown",
   "metadata": {},
   "source": [
    "# 02)"
   ]
  },
  {
   "cell_type": "code",
   "execution_count": 87,
   "metadata": {},
   "outputs": [],
   "source": [
    "def count_datatypes(*args):\n",
    "    list_ = [0,0,0,0,0,0]\n",
    "    for item in args:\n",
    "        if(type(item)==int):\n",
    "            list_[0]+=1\n",
    "        elif(type(item)==str):\n",
    "            list_[1]+=1\n",
    "        elif(type(item)==bool):\n",
    "            list_[2]+=1\n",
    "        elif(type(item)==list):\n",
    "            list_[3]+=1\n",
    "        elif(type(item)==tuple):\n",
    "            list_[4]+=1\n",
    "        elif(type(item)==dict):\n",
    "            list_[5]+=1\n",
    "    return list_"
   ]
  },
  {
   "cell_type": "markdown",
   "metadata": {},
   "source": [
    "count_datatypes(1, 45, &quot;Hi&quot;, False)"
   ]
  },
  {
   "cell_type": "code",
   "execution_count": 88,
   "metadata": {},
   "outputs": [
    {
     "data": {
      "text/plain": [
       "[2, 1, 1, 0, 0, 0]"
      ]
     },
     "execution_count": 88,
     "metadata": {},
     "output_type": "execute_result"
    }
   ],
   "source": [
    "count_datatypes(1, 45, \"Hi\", False)"
   ]
  },
  {
   "cell_type": "markdown",
   "metadata": {},
   "source": [
    "count_datatypes([10, 20], (&quot;t&quot;, &quot;Ok&quot;), 2, 3, 1)"
   ]
  },
  {
   "cell_type": "code",
   "execution_count": 89,
   "metadata": {},
   "outputs": [
    {
     "data": {
      "text/plain": [
       "[3, 0, 0, 1, 1, 0]"
      ]
     },
     "execution_count": 89,
     "metadata": {},
     "output_type": "execute_result"
    }
   ],
   "source": [
    "count_datatypes([10, 20], (\"t\", \"Ok\"), 2, 3, 1)"
   ]
  },
  {
   "cell_type": "markdown",
   "metadata": {},
   "source": [
    "count_datatypes(&quot;Hello&quot;, &quot;Bye&quot;, True, True, False, {&quot;1&quot;: &quot;One&quot;, &quot;2&quot;: &quot;Two&quot;}, [1,\n",
    "3], {&quot;Brayan&quot;: 18}, 25, 23)"
   ]
  },
  {
   "cell_type": "code",
   "execution_count": 90,
   "metadata": {},
   "outputs": [
    {
     "data": {
      "text/plain": [
       "[2, 2, 3, 1, 0, 2]"
      ]
     },
     "execution_count": 90,
     "metadata": {},
     "output_type": "execute_result"
    }
   ],
   "source": [
    "count_datatypes(\"Hello\", \"Bye\", True, True, False, {\"1\": \"One\", \"2\": \"Two\"}, [1, 3], {\"Brayan\": 18}, 25, 23)"
   ]
  },
  {
   "cell_type": "markdown",
   "metadata": {},
   "source": [
    "count_datatypes(4, 21, (&quot;ES&quot;, &quot;EN&quot;), (&quot;a&quot;, &quot;b&quot;), False, [1, 2, 3], [4, 5, 6])"
   ]
  },
  {
   "cell_type": "code",
   "execution_count": 91,
   "metadata": {},
   "outputs": [
    {
     "data": {
      "text/plain": [
       "[2, 0, 1, 2, 2, 0]"
      ]
     },
     "execution_count": 91,
     "metadata": {},
     "output_type": "execute_result"
    }
   ],
   "source": [
    "count_datatypes(4, 21, (\"ES\", \"EN\"), (\"a\", \"b\"), False, [1, 2, 3], [4, 5, 6])"
   ]
  },
  {
   "cell_type": "markdown",
   "metadata": {},
   "source": [
    "# 03)"
   ]
  },
  {
   "cell_type": "code",
   "execution_count": null,
   "metadata": {},
   "outputs": [],
   "source": []
  },
  {
   "cell_type": "code",
   "execution_count": null,
   "metadata": {},
   "outputs": [],
   "source": []
  },
  {
   "cell_type": "markdown",
   "metadata": {},
   "source": [
    "# 04)"
   ]
  },
  {
   "cell_type": "code",
   "execution_count": 111,
   "metadata": {},
   "outputs": [],
   "source": [
    "def ones_threes_nines(num):\n",
    "    # Divide with 09\n",
    "    divide_9 = int(num/9)\n",
    "    divide_3 = int((num - (divide_9*9))/3)\n",
    "    divide_1 = int(num - (divide_9*9) -(divide_3*3) )\n",
    "    return [divide_9,divide_3,divide_1]\n",
    "    "
   ]
  },
  {
   "cell_type": "code",
   "execution_count": 116,
   "metadata": {},
   "outputs": [
    {
     "name": "stdout",
     "output_type": "stream",
     "text": [
      "0 => nines : 0 trees : 0 ones : 0\n",
      "\n",
      "1 => nines : 0 trees : 0 ones : 1\n",
      "\n",
      "2 => nines : 0 trees : 0 ones : 2\n",
      "\n",
      "3 => nines : 0 trees : 1 ones : 0\n",
      "\n",
      "4 => nines : 0 trees : 1 ones : 1\n",
      "\n",
      "5 => nines : 0 trees : 1 ones : 2\n",
      "\n",
      "6 => nines : 0 trees : 2 ones : 0\n",
      "\n",
      "7 => nines : 0 trees : 2 ones : 1\n",
      "\n",
      "8 => nines : 0 trees : 2 ones : 2\n",
      "\n",
      "9 => nines : 1 trees : 0 ones : 0\n",
      "\n",
      "10 => nines : 1 trees : 0 ones : 1\n",
      "\n",
      "11 => nines : 1 trees : 0 ones : 2\n",
      "\n",
      "12 => nines : 1 trees : 1 ones : 0\n",
      "\n",
      "13 => nines : 1 trees : 1 ones : 1\n",
      "\n",
      "14 => nines : 1 trees : 1 ones : 2\n",
      "\n",
      "15 => nines : 1 trees : 2 ones : 0\n",
      "\n",
      "16 => nines : 1 trees : 2 ones : 1\n",
      "\n",
      "17 => nines : 1 trees : 2 ones : 2\n",
      "\n",
      "18 => nines : 2 trees : 0 ones : 0\n",
      "\n",
      "19 => nines : 2 trees : 0 ones : 1\n",
      "\n",
      "20 => nines : 2 trees : 0 ones : 2\n",
      "\n",
      "21 => nines : 2 trees : 1 ones : 0\n",
      "\n",
      "22 => nines : 2 trees : 1 ones : 1\n",
      "\n",
      "23 => nines : 2 trees : 1 ones : 2\n",
      "\n",
      "24 => nines : 2 trees : 2 ones : 0\n",
      "\n",
      "25 => nines : 2 trees : 2 ones : 1\n",
      "\n",
      "26 => nines : 2 trees : 2 ones : 2\n",
      "\n"
     ]
    }
   ],
   "source": [
    "for i in range(27):\n",
    "    print(f'{i} => nines : {ones_threes_nines(i)[0]} trees : {ones_threes_nines(i)[1]} ones : {ones_threes_nines(i)[2]}')\n",
    "    print()"
   ]
  },
  {
   "cell_type": "code",
   "execution_count": null,
   "metadata": {},
   "outputs": [],
   "source": []
  }
 ],
 "metadata": {
  "kernelspec": {
   "display_name": "Python 3",
   "language": "python",
   "name": "python3"
  },
  "language_info": {
   "codemirror_mode": {
    "name": "ipython",
    "version": 3
   },
   "file_extension": ".py",
   "mimetype": "text/x-python",
   "name": "python",
   "nbconvert_exporter": "python",
   "pygments_lexer": "ipython3",
   "version": "3.8.5"
  }
 },
 "nbformat": 4,
 "nbformat_minor": 4
}
