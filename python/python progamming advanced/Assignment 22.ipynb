{
 "cells": [
  {
   "cell_type": "markdown",
   "metadata": {},
   "source": [
    "# 01)"
   ]
  },
  {
   "cell_type": "markdown",
   "metadata": {},
   "source": [
    "https://drive.google.com/file/d/1ejuxQqbZs6aNgUlA3T_cldQ_M46PGk61/view"
   ]
  },
  {
   "cell_type": "code",
   "execution_count": 71,
   "metadata": {},
   "outputs": [],
   "source": [
    "class Smoothie:\n",
    "    \n",
    "    def __init__(self,*args):\n",
    "        self.Ingredient = args\n",
    "    \n",
    "    def get_cost(self):\n",
    "        return f'${self.__cost_cal()}'\n",
    "    \n",
    "    def get_price(self):\n",
    "        value = self.__cost_cal()\n",
    "        return  f'${value + value * 1.5}' \n",
    "    \n",
    "    def __cost_cal(self):\n",
    "        cost_map = {\n",
    "            'Strawberries' : 1.50,\n",
    "            'Banana' : 0.50,\n",
    "            'Mango' : 2.50,\n",
    "            'Blueberries' : 1.00,\n",
    "            'Raspberries' : 1.00,\n",
    "            'Apple' : 1.75,\n",
    "            'Pineapple' : 3.50\n",
    "        }\n",
    "        cost = 0\n",
    "        for item in list(self.Ingredient)[0]:\n",
    "            cost= cost+ cost_map[item]\n",
    "        return cost\n",
    "    \n",
    "    def get_name(self):\n",
    "        return ' '.join(list(self.Ingredient)[0])"
   ]
  },
  {
   "cell_type": "markdown",
   "metadata": {},
   "source": [
    "[&quot;Raspberries&quot;, &quot;Strawberries&quot;, &quot;Blueberries&quot;]"
   ]
  },
  {
   "cell_type": "code",
   "execution_count": 72,
   "metadata": {},
   "outputs": [
    {
     "data": {
      "text/plain": [
       "'Raspberries Strawberries Blueberries'"
      ]
     },
     "execution_count": 72,
     "metadata": {},
     "output_type": "execute_result"
    }
   ],
   "source": [
    "s1 = Smoothie([\"Raspberries\", \"Strawberries\", \"Blueberries\"])\n",
    "s1.get_name()"
   ]
  },
  {
   "cell_type": "code",
   "execution_count": 73,
   "metadata": {},
   "outputs": [
    {
     "data": {
      "text/plain": [
       "'$8.75'"
      ]
     },
     "execution_count": 73,
     "metadata": {},
     "output_type": "execute_result"
    }
   ],
   "source": [
    "s1.get_price()"
   ]
  },
  {
   "cell_type": "code",
   "execution_count": 74,
   "metadata": {},
   "outputs": [
    {
     "data": {
      "text/plain": [
       "'$3.5'"
      ]
     },
     "execution_count": 74,
     "metadata": {},
     "output_type": "execute_result"
    }
   ],
   "source": [
    "s1.get_cost()"
   ]
  },
  {
   "cell_type": "markdown",
   "metadata": {},
   "source": [
    "# 02)"
   ]
  },
  {
   "cell_type": "code",
   "execution_count": null,
   "metadata": {},
   "outputs": [],
   "source": [
    "class Testpaper:\n",
    "    "
   ]
  }
 ],
 "metadata": {
  "kernelspec": {
   "display_name": "Python 3",
   "language": "python",
   "name": "python3"
  },
  "language_info": {
   "codemirror_mode": {
    "name": "ipython",
    "version": 3
   },
   "file_extension": ".py",
   "mimetype": "text/x-python",
   "name": "python",
   "nbconvert_exporter": "python",
   "pygments_lexer": "ipython3",
   "version": "3.8.5"
  }
 },
 "nbformat": 4,
 "nbformat_minor": 4
}
