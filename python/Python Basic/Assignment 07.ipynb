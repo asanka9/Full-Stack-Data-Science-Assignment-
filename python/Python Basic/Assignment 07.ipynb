{
 "cells": [
  {
   "cell_type": "markdown",
   "metadata": {},
   "source": [
    "1. What is the name of the feature responsible for generating Regex objects?\n",
    "2. Why do raw strings often appear in Regex objects?\n",
    "3. What is the return value of the search() method?\n",
    "4. From a Match item, how do you get the actual strings that match the pattern?\n",
    "5. In the regex which created from the r&#39;(\\d\\d\\d)-(\\d\\d\\d-\\d\\d\\d\\d)&#39;, what does group zero cover?\n",
    "Group 2? Group 1?\n",
    "6. In standard expression syntax, parentheses and intervals have distinct meanings. How can you tell\n",
    "a regex that you want it to fit real parentheses and periods?\n",
    "7. The findall() method returns a string list or a list of string tuples. What causes it to return one of\n",
    "the two options?\n",
    "8. In standard expressions, what does the | character mean?\n",
    "9. In regular expressions, what does the character stand for?\n",
    "10.In regular expressions, what is the difference between the + and * characters?\n",
    "11. What is the difference between {4} and {4,5} in regular expression?\n",
    "12. What do you mean by the \\d, \\w, and \\s shorthand character classes signify in regular\n",
    "expressions?\n",
    "13. What do means by \\D, \\W, and \\S shorthand character classes signify in regular expressions?\n",
    "14. What is the difference between .*? and .*?\n",
    "15. What is the syntax for matching both numbers and lowercase letters with a character class?\n",
    "16. What is the procedure for making a normal expression in regax case insensitive?\n",
    "17. What does the . character normally match? What does it match if re.DOTALL is passed as 2nd\n",
    "argument in re.compile()?\n",
    "18. If numReg = re.compile(r&#39;\\d+&#39;), what will numRegex.sub(&#39;X&#39;, &#39;11 drummers, 10 pipers, five rings, 4\n",
    "hen&#39;) return?\n",
    "19. What does passing re.VERBOSE as the 2nd argument to re.compile() allow to do?\n",
    "20. How would you write a regex that match a number with comma for every three digits? It must\n",
    "match the given following:\n",
    "&#39;42&#39;\n",
    "&#39;1,234&#39;\n",
    "&#39;6,368,745&#39;\n",
    "\n",
    "but not the following:\n",
    "&#39;12,34,567&#39; (which has only two digits between the commas)\n",
    "&#39;1234&#39; (which lacks commas)\n",
    "21. How would you write a regex that matches the full name of someone whose last name is\n",
    "Watanabe? You can assume that the first name that comes before it will always be one word that\n",
    "begins with a capital letter. The regex must match the following:\n",
    "&#39;Haruto Watanabe&#39;\n",
    "&#39;Alice Watanabe&#39;\n",
    "&#39;RoboCop Watanabe&#39;\n",
    "but not the following:\n",
    "&#39;haruto Watanabe&#39; (where the first name is not capitalized)\n",
    "&#39;Mr. Watanabe&#39; (where the preceding word has a nonletter character)\n",
    "&#39;Watanabe&#39; (which has no first name)\n",
    "&#39;Haruto watanabe&#39; (where Watanabe is not capitalized)\n",
    "22. How would you write a regex that matches a sentence where the first word is either Alice, Bob,\n",
    "or Carol; the second word is either eats, pets, or throws; the third word is apples, cats, or baseballs;\n",
    "and the sentence ends with a period? This regex should be case-insensitive. It must match the\n",
    "following:\n",
    "&#39;Alice eats apples.&#39;\n",
    "&#39;Bob pets cats.&#39;\n",
    "&#39;Carol throws baseballs.&#39;\n",
    "&#39;Alice throws Apples.&#39;\n",
    "&#39;BOB EATS CATS.&#39;\n",
    "but not the following:\n",
    "&#39;RoboCop eats apples.&#39;\n",
    "&#39;ALICE THROWS FOOTBALLS.&#39;\n",
    "&#39;Carol eats 7 cats.&#39;"
   ]
  },
  {
   "cell_type": "markdown",
   "metadata": {},
   "source": [
    "<section class=\"SetPageTerms-termsList\"><div aria-label=\"Term\" class=\"SetPageTerms-term\"><div class=\"SetPageTerm has-definitionText is-showing\"><div class=\"SetPageTerm-inner\"><div class=\"SetPageTerm-contentWrapper\"><div class=\"SetPageTerm-content\"><div class=\"SetPageTerm-side SetPageTerm-smallSide\"><div class=\"SetPageTerm-sideContent\"><a class=\"SetPageTerm-wordText\"><span class=\"TermText notranslate lang-en\">What is the function that creates Regex objects?</span></a></div></div><div class=\"SetPageTerm-side SetPageTerm-largeSide\"><div class=\"SetPageTerm-sideContent\"><a class=\"SetPageTerm-definitionText\"><span class=\"TermText notranslate lang-en\">The re.compile() function returns Regex objects.</span></a></div></div></div></div><div class=\"SetPageTerm-actions\"><span class=\"SetPageTerm-star\"><span class=\"UIIconButton\"><button class=\"UIButton UIButton--borderless\" type=\"button\"><span class=\"UIButton-wrapper\"><svg aria-label=\"Star\" class=\"UIIcon UIIcon--star\" role=\"img\"><noscript></noscript><use xlink:href=\"#star\"></use><noscript></noscript></svg></span></button></span></span><span class=\"SetPageTerm-audio\"><span class=\"UIIconButton\"><button class=\"UIButton UIButton--borderless\" type=\"button\"><span class=\"UIButton-wrapper\"><svg aria-label=\"Audio\" class=\"UIIcon UIIcon--audio\" role=\"img\"><noscript></noscript><use xlink:href=\"#audio\"></use><noscript></noscript></svg></span></button></span></span></div></div></div></div><div aria-label=\"Term\" class=\"SetPageTerms-term\"><div class=\"SetPageTerm has-definitionText is-showing\"><div class=\"SetPageTerm-inner\"><div class=\"SetPageTerm-contentWrapper\"><div class=\"SetPageTerm-content\"><div class=\"SetPageTerm-side SetPageTerm-smallSide\"><div class=\"SetPageTerm-sideContent\"><a class=\"SetPageTerm-wordText\"><span class=\"TermText notranslate lang-en\">Why are raw strings often used when creating Regex objects?</span></a></div></div><div class=\"SetPageTerm-side SetPageTerm-largeSide\"><div class=\"SetPageTerm-sideContent\"><a class=\"SetPageTerm-definitionText\"><span class=\"TermText notranslate lang-en\">Raw strings are used so that backslashes do not have to be escaped.</span></a></div></div></div></div><div class=\"SetPageTerm-actions\"><span class=\"SetPageTerm-star\"><span class=\"UIIconButton\"><button class=\"UIButton UIButton--borderless\" type=\"button\"><span class=\"UIButton-wrapper\"><svg aria-label=\"Star\" class=\"UIIcon UIIcon--star\" role=\"img\"><noscript></noscript><use xlink:href=\"#star\"></use><noscript></noscript></svg></span></button></span></span><span class=\"SetPageTerm-audio\"><span class=\"UIIconButton\"><button class=\"UIButton UIButton--borderless\" type=\"button\"><span class=\"UIButton-wrapper\"><svg aria-label=\"Audio\" class=\"UIIcon UIIcon--audio\" role=\"img\"><noscript></noscript><use xlink:href=\"#audio\"></use><noscript></noscript></svg></span></button></span></span></div></div></div></div><div class=\"SetPageEmbeddedAd-wrapper\"></div><div aria-label=\"Term\" class=\"SetPageTerms-term\"><div class=\"SetPageTerm has-definitionText is-showing\"><div class=\"SetPageTerm-inner\"><div class=\"SetPageTerm-contentWrapper\"><div class=\"SetPageTerm-content\"><div class=\"SetPageTerm-side SetPageTerm-smallSide\"><div class=\"SetPageTerm-sideContent\"><a class=\"SetPageTerm-wordText\"><span class=\"TermText notranslate lang-en\">What does the search() method return?</span></a></div></div><div class=\"SetPageTerm-side SetPageTerm-largeSide\"><div class=\"SetPageTerm-sideContent\"><a class=\"SetPageTerm-definitionText\"><span class=\"TermText notranslate lang-en\">The search() method returns Match objects.</span></a></div></div></div></div><div class=\"SetPageTerm-actions\"><span class=\"SetPageTerm-star\"><span class=\"UIIconButton\"><button class=\"UIButton UIButton--borderless\" type=\"button\"><span class=\"UIButton-wrapper\"><svg aria-label=\"Star\" class=\"UIIcon UIIcon--star\" role=\"img\"><noscript></noscript><use xlink:href=\"#star\"></use><noscript></noscript></svg></span></button></span></span><span class=\"SetPageTerm-audio\"><span class=\"UIIconButton\"><button class=\"UIButton UIButton--borderless\" type=\"button\"><span class=\"UIButton-wrapper\"><svg aria-label=\"Audio\" class=\"UIIcon UIIcon--audio\" role=\"img\"><noscript></noscript><use xlink:href=\"#audio\"></use><noscript></noscript></svg></span></button></span></span></div></div></div></div><div aria-label=\"Term\" class=\"SetPageTerms-term\"><div class=\"SetPageTerm has-definitionText is-showing\"><div class=\"SetPageTerm-inner\"><div class=\"SetPageTerm-contentWrapper\"><div class=\"SetPageTerm-content\"><div class=\"SetPageTerm-side SetPageTerm-smallSide\"><div class=\"SetPageTerm-sideContent\"><a class=\"SetPageTerm-wordText\"><span class=\"TermText notranslate lang-en\">How do you get the actual strings that match the pattern from a Match object?</span></a></div></div><div class=\"SetPageTerm-side SetPageTerm-largeSide\"><div class=\"SetPageTerm-sideContent\"><a class=\"SetPageTerm-definitionText\"><span class=\"TermText notranslate lang-en\">The group() method returns strings of the matched text.</span></a></div></div></div></div><div class=\"SetPageTerm-actions\"><span class=\"SetPageTerm-star\"><span class=\"UIIconButton\"><button class=\"UIButton UIButton--borderless\" type=\"button\"><span class=\"UIButton-wrapper\"><svg aria-label=\"Star\" class=\"UIIcon UIIcon--star\" role=\"img\"><noscript></noscript><use xlink:href=\"#star\"></use><noscript></noscript></svg></span></button></span></span><span class=\"SetPageTerm-audio\"><span class=\"UIIconButton\"><button class=\"UIButton UIButton--borderless\" type=\"button\"><span class=\"UIButton-wrapper\"><svg aria-label=\"Audio\" class=\"UIIcon UIIcon--audio\" role=\"img\"><noscript></noscript><use xlink:href=\"#audio\"></use><noscript></noscript></svg></span></button></span></span></div></div></div></div><div aria-label=\"Term\" class=\"SetPageTerms-term\"><div class=\"SetPageTerm has-definitionText is-showing\"><div class=\"SetPageTerm-inner\"><div class=\"SetPageTerm-contentWrapper\"><div class=\"SetPageTerm-content\"><div class=\"SetPageTerm-side SetPageTerm-smallSide\"><div class=\"SetPageTerm-sideContent\"><a class=\"SetPageTerm-wordText\"><span class=\"TermText notranslate lang-en\">In the regex created from r'(\\d\\d\\d)-(\\d\\d\\d-\\d\\d\\d\\d)', what does group 0 cover? Group 1? Group 2?</span></a></div></div><div class=\"SetPageTerm-side SetPageTerm-largeSide\"><div class=\"SetPageTerm-sideContent\"><a class=\"SetPageTerm-definitionText\"><span class=\"TermText notranslate lang-en\">Group 0 is the entire match, group 1 covers the first set of parentheses, and group 2 covers the second set of parentheses.</span></a></div></div></div></div><div class=\"SetPageTerm-actions\"><span class=\"SetPageTerm-star\"><span class=\"UIIconButton\"><button class=\"UIButton UIButton--borderless\" type=\"button\"><span class=\"UIButton-wrapper\"><svg aria-label=\"Star\" class=\"UIIcon UIIcon--star\" role=\"img\"><noscript></noscript><use xlink:href=\"#star\"></use><noscript></noscript></svg></span></button></span></span><span class=\"SetPageTerm-audio\"><span class=\"UIIconButton\"><button class=\"UIButton UIButton--borderless\" type=\"button\"><span class=\"UIButton-wrapper\"><svg aria-label=\"Audio\" class=\"UIIcon UIIcon--audio\" role=\"img\"><noscript></noscript><use xlink:href=\"#audio\"></use><noscript></noscript></svg></span></button></span></span></div></div></div></div><div aria-label=\"Term\" class=\"SetPageTerms-term\"><div class=\"SetPageTerm has-definitionText is-showing\"><div class=\"SetPageTerm-inner\"><div class=\"SetPageTerm-contentWrapper\"><div class=\"SetPageTerm-content\"><div class=\"SetPageTerm-side SetPageTerm-smallSide\"><div class=\"SetPageTerm-sideContent\"><a class=\"SetPageTerm-wordText\"><span class=\"TermText notranslate lang-en\">Parentheses and periods have specific meanings in regular expression syntax. How would you specify that you want a regex to match actual parentheses and period characters?</span></a></div></div><div class=\"SetPageTerm-side SetPageTerm-largeSide\"><div class=\"SetPageTerm-sideContent\"><a class=\"SetPageTerm-definitionText\"><span class=\"TermText notranslate lang-en\">Periods and parentheses can be escaped with a backslash: \\., \\(, and \\).</span></a></div></div></div></div><div class=\"SetPageTerm-actions\"><span class=\"SetPageTerm-star\"><span class=\"UIIconButton\"><button class=\"UIButton UIButton--borderless\" type=\"button\"><span class=\"UIButton-wrapper\"><svg aria-label=\"Star\" class=\"UIIcon UIIcon--star\" role=\"img\"><noscript></noscript><use xlink:href=\"#star\"></use><noscript></noscript></svg></span></button></span></span><span class=\"SetPageTerm-audio\"><span class=\"UIIconButton\"><button class=\"UIButton UIButton--borderless\" type=\"button\"><span class=\"UIButton-wrapper\"><svg aria-label=\"Audio\" class=\"UIIcon UIIcon--audio\" role=\"img\"><noscript></noscript><use xlink:href=\"#audio\"></use><noscript></noscript></svg></span></button></span></span></div></div></div></div><div aria-label=\"Term\" class=\"SetPageTerms-term\"><div class=\"SetPageTerm has-definitionText is-showing\"><div class=\"SetPageTerm-inner\"><div class=\"SetPageTerm-contentWrapper\"><div class=\"SetPageTerm-content\"><div class=\"SetPageTerm-side SetPageTerm-smallSide\"><div class=\"SetPageTerm-sideContent\"><a class=\"SetPageTerm-wordText\"><span class=\"TermText notranslate lang-en\">The findall() method returns a list of strings or a list of tuples of strings. What makes it return one or the other?</span></a></div></div><div class=\"SetPageTerm-side SetPageTerm-largeSide\"><div class=\"SetPageTerm-sideContent\"><a class=\"SetPageTerm-definitionText\"><span class=\"TermText notranslate lang-en\">If the regex has no groups, a list of strings is returned. If the regex has groups, a list of tuples of strings is returned.</span></a></div></div></div></div><div class=\"SetPageTerm-actions\"><span class=\"SetPageTerm-star\"><span class=\"UIIconButton\"><button class=\"UIButton UIButton--borderless\" type=\"button\"><span class=\"UIButton-wrapper\"><svg aria-label=\"Star\" class=\"UIIcon UIIcon--star\" role=\"img\"><noscript></noscript><use xlink:href=\"#star\"></use><noscript></noscript></svg></span></button></span></span><span class=\"SetPageTerm-audio\"><span class=\"UIIconButton\"><button class=\"UIButton UIButton--borderless\" type=\"button\"><span class=\"UIButton-wrapper\"><svg aria-label=\"Audio\" class=\"UIIcon UIIcon--audio\" role=\"img\"><noscript></noscript><use xlink:href=\"#audio\"></use><noscript></noscript></svg></span></button></span></span></div></div></div></div><div aria-label=\"Term\" class=\"SetPageTerms-term\"><div class=\"SetPageTerm has-definitionText is-showing\"><div class=\"SetPageTerm-inner\"><div class=\"SetPageTerm-contentWrapper\"><div class=\"SetPageTerm-content\"><div class=\"SetPageTerm-side SetPageTerm-smallSide\"><div class=\"SetPageTerm-sideContent\"><a class=\"SetPageTerm-wordText\"><span class=\"TermText notranslate lang-en\">What does the | character signify in regular expressions?</span></a></div></div><div class=\"SetPageTerm-side SetPageTerm-largeSide\"><div class=\"SetPageTerm-sideContent\"><a class=\"SetPageTerm-definitionText\"><span class=\"TermText notranslate lang-en\">The | character signifies matching \"either, or\" between two groups.</span></a></div></div></div></div><div class=\"SetPageTerm-actions\"><span class=\"SetPageTerm-star\"><span class=\"UIIconButton\"><button class=\"UIButton UIButton--borderless\" type=\"button\"><span class=\"UIButton-wrapper\"><svg aria-label=\"Star\" class=\"UIIcon UIIcon--star\" role=\"img\"><noscript></noscript><use xlink:href=\"#star\"></use><noscript></noscript></svg></span></button></span></span><span class=\"SetPageTerm-audio\"><span class=\"UIIconButton\"><button class=\"UIButton UIButton--borderless\" type=\"button\"><span class=\"UIButton-wrapper\"><svg aria-label=\"Audio\" class=\"UIIcon UIIcon--audio\" role=\"img\"><noscript></noscript><use xlink:href=\"#audio\"></use><noscript></noscript></svg></span></button></span></span></div></div></div></div><div aria-label=\"Term\" class=\"SetPageTerms-term\"><div class=\"SetPageTerm has-definitionText is-showing\"><div class=\"SetPageTerm-inner\"><div class=\"SetPageTerm-contentWrapper\"><div class=\"SetPageTerm-content\"><div class=\"SetPageTerm-side SetPageTerm-smallSide\"><div class=\"SetPageTerm-sideContent\"><a class=\"SetPageTerm-wordText\"><span class=\"TermText notranslate lang-en\">What two things does the ? character signify in regular expressions?</span></a></div></div><div class=\"SetPageTerm-side SetPageTerm-largeSide\"><div class=\"SetPageTerm-sideContent\"><a class=\"SetPageTerm-definitionText\"><span class=\"TermText notranslate lang-en\">The ? character can either mean \"match zero or one of the preceding group\" or be used to signify nongreedy matching.</span></a></div></div></div></div><div class=\"SetPageTerm-actions\"><span class=\"SetPageTerm-star\"><span class=\"UIIconButton\"><button class=\"UIButton UIButton--borderless\" type=\"button\"><span class=\"UIButton-wrapper\"><svg aria-label=\"Star\" class=\"UIIcon UIIcon--star\" role=\"img\"><noscript></noscript><use xlink:href=\"#star\"></use><noscript></noscript></svg></span></button></span></span><span class=\"SetPageTerm-audio\"><span class=\"UIIconButton\"><button class=\"UIButton UIButton--borderless\" type=\"button\"><span class=\"UIButton-wrapper\"><svg aria-label=\"Audio\" class=\"UIIcon UIIcon--audio\" role=\"img\"><noscript></noscript><use xlink:href=\"#audio\"></use><noscript></noscript></svg></span></button></span></span></div></div></div></div><div aria-label=\"Term\" class=\"SetPageTerms-term\"><div class=\"SetPageTerm has-definitionText is-showing\"><div class=\"SetPageTerm-inner\"><div class=\"SetPageTerm-contentWrapper\"><div class=\"SetPageTerm-content\"><div class=\"SetPageTerm-side SetPageTerm-smallSide\"><div class=\"SetPageTerm-sideContent\"><a class=\"SetPageTerm-wordText\"><span class=\"TermText notranslate lang-en\">What is the difference between the + and * characters in regular expressions?</span></a></div></div><div class=\"SetPageTerm-side SetPageTerm-largeSide\"><div class=\"SetPageTerm-sideContent\"><a class=\"SetPageTerm-definitionText\"><span class=\"TermText notranslate lang-en\">The + matches one or more. The * matches zero or more.</span></a></div></div></div></div><div class=\"SetPageTerm-actions\"><span class=\"SetPageTerm-star\"><span class=\"UIIconButton\"><button class=\"UIButton UIButton--borderless\" type=\"button\"><span class=\"UIButton-wrapper\"><svg aria-label=\"Star\" class=\"UIIcon UIIcon--star\" role=\"img\"><noscript></noscript><use xlink:href=\"#star\"></use><noscript></noscript></svg></span></button></span></span><span class=\"SetPageTerm-audio\"><span class=\"UIIconButton\"><button class=\"UIButton UIButton--borderless\" type=\"button\"><span class=\"UIButton-wrapper\"><svg aria-label=\"Audio\" class=\"UIIcon UIIcon--audio\" role=\"img\"><noscript></noscript><use xlink:href=\"#audio\"></use><noscript></noscript></svg></span></button></span></span></div></div></div></div><div aria-label=\"Term\" class=\"SetPageTerms-term\"><div class=\"SetPageTerm has-definitionText is-showing\"><div class=\"SetPageTerm-inner\"><div class=\"SetPageTerm-contentWrapper\"><div class=\"SetPageTerm-content\"><div class=\"SetPageTerm-side SetPageTerm-smallSide\"><div class=\"SetPageTerm-sideContent\"><a class=\"SetPageTerm-wordText\"><span class=\"TermText notranslate lang-en\">What is the difference between {3} and {3,5} in regular expressions?</span></a></div></div><div class=\"SetPageTerm-side SetPageTerm-largeSide\"><div class=\"SetPageTerm-sideContent\"><a class=\"SetPageTerm-definitionText\"><span class=\"TermText notranslate lang-en\">The {3} matches exactly three instances of the preceding group. The {3,5} matches between three and five instances.</span></a></div></div></div></div><div class=\"SetPageTerm-actions\"><span class=\"SetPageTerm-star\"><span class=\"UIIconButton\"><button class=\"UIButton UIButton--borderless\" type=\"button\"><span class=\"UIButton-wrapper\"><svg aria-label=\"Star\" class=\"UIIcon UIIcon--star\" role=\"img\"><noscript></noscript><use xlink:href=\"#star\"></use><noscript></noscript></svg></span></button></span></span><span class=\"SetPageTerm-audio\"><span class=\"UIIconButton\"><button class=\"UIButton UIButton--borderless\" type=\"button\"><span class=\"UIButton-wrapper\"><svg aria-label=\"Audio\" class=\"UIIcon UIIcon--audio\" role=\"img\"><noscript></noscript><use xlink:href=\"#audio\"></use><noscript></noscript></svg></span></button></span></span></div></div></div></div><div aria-label=\"Term\" class=\"SetPageTerms-term\"><div class=\"SetPageTerm has-definitionText is-showing\"><div class=\"SetPageTerm-inner\"><div class=\"SetPageTerm-contentWrapper\"><div class=\"SetPageTerm-content\"><div class=\"SetPageTerm-side SetPageTerm-smallSide\"><div class=\"SetPageTerm-sideContent\"><a class=\"SetPageTerm-wordText\"><span class=\"TermText notranslate lang-en\">What do the \\d, \\w, and \\s shorthand character classes signify in regular expressions?</span></a></div></div><div class=\"SetPageTerm-side SetPageTerm-largeSide\"><div class=\"SetPageTerm-sideContent\"><a class=\"SetPageTerm-definitionText\"><span class=\"TermText notranslate lang-en\">The \\d, \\w, and \\s shorthand character classes match a single digit, word, or space character, respectively.</span></a></div></div></div></div><div class=\"SetPageTerm-actions\"><span class=\"SetPageTerm-star\"><span class=\"UIIconButton\"><button class=\"UIButton UIButton--borderless\" type=\"button\"><span class=\"UIButton-wrapper\"><svg aria-label=\"Star\" class=\"UIIcon UIIcon--star\" role=\"img\"><noscript></noscript><use xlink:href=\"#star\"></use><noscript></noscript></svg></span></button></span></span><span class=\"SetPageTerm-audio\"><span class=\"UIIconButton\"><button class=\"UIButton UIButton--borderless\" type=\"button\"><span class=\"UIButton-wrapper\"><svg aria-label=\"Audio\" class=\"UIIcon UIIcon--audio\" role=\"img\"><noscript></noscript><use xlink:href=\"#audio\"></use><noscript></noscript></svg></span></button></span></span></div></div></div></div><div class=\"SetPageEmbeddedAd-wrapper\"></div><div aria-label=\"Term\" class=\"SetPageTerms-term\"><div class=\"SetPageTerm has-definitionText is-showing\"><div class=\"SetPageTerm-inner\"><div class=\"SetPageTerm-contentWrapper\"><div class=\"SetPageTerm-content\"><div class=\"SetPageTerm-side SetPageTerm-smallSide\"><div class=\"SetPageTerm-sideContent\"><a class=\"SetPageTerm-wordText\"><span class=\"TermText notranslate lang-en\">What do the \\D, \\W, and \\S shorthand character classes signify in regular expressions?</span></a></div></div><div class=\"SetPageTerm-side SetPageTerm-largeSide\"><div class=\"SetPageTerm-sideContent\"><a class=\"SetPageTerm-definitionText\"><span class=\"TermText notranslate lang-en\">The \\D, \\W, and \\S shorthand character classes match a single character that is not a digit, word, or space character, respectively.</span></a></div></div></div></div><div class=\"SetPageTerm-actions\"><span class=\"SetPageTerm-star\"><span class=\"UIIconButton\"><button class=\"UIButton UIButton--borderless\" type=\"button\"><span class=\"UIButton-wrapper\"><svg aria-label=\"Star\" class=\"UIIcon UIIcon--star\" role=\"img\"><noscript></noscript><use xlink:href=\"#star\"></use><noscript></noscript></svg></span></button></span></span><span class=\"SetPageTerm-audio\"><span class=\"UIIconButton\"><button class=\"UIButton UIButton--borderless\" type=\"button\"><span class=\"UIButton-wrapper\"><svg aria-label=\"Audio\" class=\"UIIcon UIIcon--audio\" role=\"img\"><noscript></noscript><use xlink:href=\"#audio\"></use><noscript></noscript></svg></span></button></span></span></div></div></div></div><div aria-label=\"Term\" class=\"SetPageTerms-term\"><div class=\"SetPageTerm has-definitionText is-showing\"><div class=\"SetPageTerm-inner\"><div class=\"SetPageTerm-contentWrapper\"><div class=\"SetPageTerm-content\"><div class=\"SetPageTerm-side SetPageTerm-smallSide\"><div class=\"SetPageTerm-sideContent\"><a class=\"SetPageTerm-wordText\"><span class=\"TermText notranslate lang-en\">How do you make a regular expression case-insensitive?</span></a></div></div><div class=\"SetPageTerm-side SetPageTerm-largeSide\"><div class=\"SetPageTerm-sideContent\"><a class=\"SetPageTerm-definitionText\"><span class=\"TermText notranslate lang-en\">Passing re.I or re.IGNORECASE as the second argument to re.compile() will make the matching case insensitive.</span></a></div></div></div></div><div class=\"SetPageTerm-actions\"><span class=\"SetPageTerm-star\"><span class=\"UIIconButton\"><button class=\"UIButton UIButton--borderless\" type=\"button\"><span class=\"UIButton-wrapper\"><svg aria-label=\"Star\" class=\"UIIcon UIIcon--star\" role=\"img\"><noscript></noscript><use xlink:href=\"#star\"></use><noscript></noscript></svg></span></button></span></span><span class=\"SetPageTerm-audio\"><span class=\"UIIconButton\"><button class=\"UIButton UIButton--borderless\" type=\"button\"><span class=\"UIButton-wrapper\"><svg aria-label=\"Audio\" class=\"UIIcon UIIcon--audio\" role=\"img\"><noscript></noscript><use xlink:href=\"#audio\"></use><noscript></noscript></svg></span></button></span></span></div></div></div></div><div aria-label=\"Term\" class=\"SetPageTerms-term\"><div class=\"SetPageTerm has-definitionText is-showing\"><div class=\"SetPageTerm-inner\"><div class=\"SetPageTerm-contentWrapper\"><div class=\"SetPageTerm-content\"><div class=\"SetPageTerm-side SetPageTerm-smallSide\"><div class=\"SetPageTerm-sideContent\"><a class=\"SetPageTerm-wordText\"><span class=\"TermText notranslate lang-en\">What does the . character normally match? What does it match if re.DOTALL is passed as the second argument to re.compile()?</span></a></div></div><div class=\"SetPageTerm-side SetPageTerm-largeSide\"><div class=\"SetPageTerm-sideContent\"><a class=\"SetPageTerm-definitionText\"><span class=\"TermText notranslate lang-en\">The . character normally matches any character except the newline character. If re.DOTALL is passed as the second argument to re.compile(), then the dot will also match newline characters.</span></a></div></div></div></div><div class=\"SetPageTerm-actions\"><span class=\"SetPageTerm-star\"><span class=\"UIIconButton\"><button class=\"UIButton UIButton--borderless\" type=\"button\"><span class=\"UIButton-wrapper\"><svg aria-label=\"Star\" class=\"UIIcon UIIcon--star\" role=\"img\"><noscript></noscript><use xlink:href=\"#star\"></use><noscript></noscript></svg></span></button></span></span><span class=\"SetPageTerm-audio\"><span class=\"UIIconButton\"><button class=\"UIButton UIButton--borderless\" type=\"button\"><span class=\"UIButton-wrapper\"><svg aria-label=\"Audio\" class=\"UIIcon UIIcon--audio\" role=\"img\"><noscript></noscript><use xlink:href=\"#audio\"></use><noscript></noscript></svg></span></button></span></span></div></div></div></div><div aria-label=\"Term\" class=\"SetPageTerms-term\"><div class=\"SetPageTerm has-definitionText is-showing\"><div class=\"SetPageTerm-inner\"><div class=\"SetPageTerm-contentWrapper\"><div class=\"SetPageTerm-content\"><div class=\"SetPageTerm-side SetPageTerm-smallSide\"><div class=\"SetPageTerm-sideContent\"><a class=\"SetPageTerm-wordText\"><span class=\"TermText notranslate lang-en\">What is the difference between these two: .<b> and .</b>?</span></a></div></div><div class=\"SetPageTerm-side SetPageTerm-largeSide\"><div class=\"SetPageTerm-sideContent\"><a class=\"SetPageTerm-definitionText\"><span class=\"TermText notranslate lang-en\">The .<b> performs a greedy match, and the .</b>? performs a nongreedy match.</span></a></div></div></div></div><div class=\"SetPageTerm-actions\"><span class=\"SetPageTerm-star\"><span class=\"UIIconButton\"><button class=\"UIButton UIButton--borderless\" type=\"button\"><span class=\"UIButton-wrapper\"><svg aria-label=\"Star\" class=\"UIIcon UIIcon--star\" role=\"img\"><noscript></noscript><use xlink:href=\"#star\"></use><noscript></noscript></svg></span></button></span></span><span class=\"SetPageTerm-audio\"><span class=\"UIIconButton\"><button class=\"UIButton UIButton--borderless\" type=\"button\"><span class=\"UIButton-wrapper\"><svg aria-label=\"Audio\" class=\"UIIcon UIIcon--audio\" role=\"img\"><noscript></noscript><use xlink:href=\"#audio\"></use><noscript></noscript></svg></span></button></span></span></div></div></div></div><div aria-label=\"Term\" class=\"SetPageTerms-term\"><div class=\"SetPageTerm has-definitionText is-showing\"><div class=\"SetPageTerm-inner\"><div class=\"SetPageTerm-contentWrapper\"><div class=\"SetPageTerm-content\"><div class=\"SetPageTerm-side SetPageTerm-smallSide\"><div class=\"SetPageTerm-sideContent\"><a class=\"SetPageTerm-wordText\"><span class=\"TermText notranslate lang-en\">What is the character class syntax to match all numbers and lowercase letters?</span></a></div></div><div class=\"SetPageTerm-side SetPageTerm-largeSide\"><div class=\"SetPageTerm-sideContent\"><a class=\"SetPageTerm-definitionText\"><span class=\"TermText notranslate lang-en\">Either [0-9a-z] or [a-z0-9]</span></a></div></div></div></div><div class=\"SetPageTerm-actions\"><span class=\"SetPageTerm-star\"><span class=\"UIIconButton\"><button class=\"UIButton UIButton--borderless\" type=\"button\"><span class=\"UIButton-wrapper\"><svg aria-label=\"Star\" class=\"UIIcon UIIcon--star\" role=\"img\"><noscript></noscript><use xlink:href=\"#star\"></use><noscript></noscript></svg></span></button></span></span><span class=\"SetPageTerm-audio\"><span class=\"UIIconButton\"><button class=\"UIButton UIButton--borderless\" type=\"button\"><span class=\"UIButton-wrapper\"><svg aria-label=\"Audio\" class=\"UIIcon UIIcon--audio\" role=\"img\"><noscript></noscript><use xlink:href=\"#audio\"></use><noscript></noscript></svg></span></button></span></span></div></div></div></div><div aria-label=\"Term\" class=\"SetPageTerms-term\"><div class=\"SetPageTerm has-definitionText is-showing\"><div class=\"SetPageTerm-inner\"><div class=\"SetPageTerm-contentWrapper\"><div class=\"SetPageTerm-content\"><div class=\"SetPageTerm-side SetPageTerm-smallSide\"><div class=\"SetPageTerm-sideContent\"><a class=\"SetPageTerm-wordText\"><span class=\"TermText notranslate lang-en\">If numRegex = re.compile(r'\\d+'), what will numRegex.sub('X', '12 drummers, 11 pipers, five rings, 3 hens') return?</span></a></div></div><div class=\"SetPageTerm-side SetPageTerm-largeSide\"><div class=\"SetPageTerm-sideContent\"><a class=\"SetPageTerm-definitionText\"><span class=\"TermText notranslate lang-en\">'X drummers, X pipers, five rings, X hens'</span></a></div></div></div></div><div class=\"SetPageTerm-actions\"><span class=\"SetPageTerm-star\"><span class=\"UIIconButton\"><button class=\"UIButton UIButton--borderless\" type=\"button\"><span class=\"UIButton-wrapper\"><svg aria-label=\"Star\" class=\"UIIcon UIIcon--star\" role=\"img\"><noscript></noscript><use xlink:href=\"#star\"></use><noscript></noscript></svg></span></button></span></span><span class=\"SetPageTerm-audio\"><span class=\"UIIconButton\"><button class=\"UIButton UIButton--borderless\" type=\"button\"><span class=\"UIButton-wrapper\"><svg aria-label=\"Audio\" class=\"UIIcon UIIcon--audio\" role=\"img\"><noscript></noscript><use xlink:href=\"#audio\"></use><noscript></noscript></svg></span></button></span></span></div></div></div></div><div aria-label=\"Term\" class=\"SetPageTerms-term\"><div class=\"SetPageTerm has-definitionText is-showing\"><div class=\"SetPageTerm-inner\"><div class=\"SetPageTerm-contentWrapper\"><div class=\"SetPageTerm-content\"><div class=\"SetPageTerm-side SetPageTerm-smallSide\"><div class=\"SetPageTerm-sideContent\"><a class=\"SetPageTerm-wordText\"><span class=\"TermText notranslate lang-en\">What does passing re.VERBOSE as the second argument to re.compile() allow you to do?</span></a></div></div><div class=\"SetPageTerm-side SetPageTerm-largeSide\"><div class=\"SetPageTerm-sideContent\"><a class=\"SetPageTerm-definitionText\"><span class=\"TermText notranslate lang-en\">The re.VERBOSE argument allows you to add whitespace and comments to the string passed to re.compile().</span></a></div></div></div></div><div class=\"SetPageTerm-actions\"><span class=\"SetPageTerm-star\"><span class=\"UIIconButton\"><button class=\"UIButton UIButton--borderless\" type=\"button\"><span class=\"UIButton-wrapper\"><svg aria-label=\"Star\" class=\"UIIcon UIIcon--star\" role=\"img\"><noscript></noscript><use xlink:href=\"#star\"></use><noscript></noscript></svg></span></button></span></span><span class=\"SetPageTerm-audio\"><span class=\"UIIconButton\"><button class=\"UIButton UIButton--borderless\" type=\"button\"><span class=\"UIButton-wrapper\"><svg aria-label=\"Audio\" class=\"UIIcon UIIcon--audio\" role=\"img\"><noscript></noscript><use xlink:href=\"#audio\"></use><noscript></noscript></svg></span></button></span></span></div></div></div></div><div aria-label=\"Term\" class=\"SetPageTerms-term\"><div class=\"SetPageTerm has-definitionText is-showing\"><div class=\"SetPageTerm-inner\"><div class=\"SetPageTerm-contentWrapper\"><div class=\"SetPageTerm-content\"><div class=\"SetPageTerm-side SetPageTerm-smallSide\"><div class=\"SetPageTerm-sideContent\"><a class=\"SetPageTerm-wordText\"><span class=\"TermText notranslate lang-en\">How would you write a regex that matches a number with commas for every three digits? It must match the following:<br><br>'42'<br><br>'1,234'<br><br>'6,368,745'<br><br>but not the following:<br><br>'12,34,567' (which has only two digits between the commas)<br><br>'1234' (which lacks commas)</span></a></div></div><div class=\"SetPageTerm-side SetPageTerm-largeSide\"><div class=\"SetPageTerm-sideContent\"><a class=\"SetPageTerm-definitionText\"><span class=\"TermText notranslate lang-en\">re.compile(r'^\\d{1,3}(,\\d{3})*$') will create this regex, but other regex strings can produce a similar regular expression.</span></a></div></div></div></div><div class=\"SetPageTerm-actions\"><span class=\"SetPageTerm-star\"><span class=\"UIIconButton\"><button class=\"UIButton UIButton--borderless\" type=\"button\"><span class=\"UIButton-wrapper\"><svg aria-label=\"Star\" class=\"UIIcon UIIcon--star\" role=\"img\"><noscript></noscript><use xlink:href=\"#star\"></use><noscript></noscript></svg></span></button></span></span><span class=\"SetPageTerm-audio\"><span class=\"UIIconButton\"><button class=\"UIButton UIButton--borderless\" type=\"button\"><span class=\"UIButton-wrapper\"><svg aria-label=\"Audio\" class=\"UIIcon UIIcon--audio\" role=\"img\"><noscript></noscript><use xlink:href=\"#audio\"></use><noscript></noscript></svg></span></button></span></span></div></div></div></div><div aria-label=\"Term\" class=\"SetPageTerms-term\"><div class=\"SetPageTerm has-definitionText is-showing\"><div class=\"SetPageTerm-inner\"><div class=\"SetPageTerm-contentWrapper\"><div class=\"SetPageTerm-content\"><div class=\"SetPageTerm-side SetPageTerm-smallSide\"><div class=\"SetPageTerm-sideContent\"><span class=\"SetPageTerm-wordText\"><span class=\"TermText notranslate lang-en\">How would you write a regex that matches the full name of someone whose last name is Nakamoto? You can assume that the first name that comes before it will always be one word that begins with a capital letter. The regex must match the following:<br><br>'Satoshi Nakamoto'<br><br>'Alice Nakamoto'<br><br>'Robocop Nakamoto'<br><br>but not the following:<br><br>'satoshi Nakamoto' (where the first name is not capitalized)<br><br>'Mr. Nakamoto' (where the preceding word has a nonletter character)<br><br>'Nakamoto' (which has no first name)<br><br>'Satoshi nakamoto' (where Nakamoto is not capitalized)</span></span></div></div><div class=\"SetPageTerm-side SetPageTerm-largeSide\"><div class=\"SetPageTerm-sideContent\"><a class=\"SetPageTerm-definitionText\"><span class=\"TermText notranslate lang-en\">re.compile(r'[A-Z][a-z]*\\sNakamoto')</span></a></div></div></div></div><div class=\"SetPageTerm-actions\"><span class=\"SetPageTerm-star\"><span class=\"UIIconButton\"><button class=\"UIButton UIButton--borderless\" type=\"button\"><span class=\"UIButton-wrapper\"><svg aria-label=\"Star\" class=\"UIIcon UIIcon--star\" role=\"img\"><noscript></noscript><use xlink:href=\"#star\"></use><noscript></noscript></svg></span></button></span></span><span class=\"SetPageTerm-audio\"><span class=\"UIIconButton\"><button class=\"UIButton UIButton--borderless\" type=\"button\"><span class=\"UIButton-wrapper\"><svg aria-label=\"Audio\" class=\"UIIcon UIIcon--audio\" role=\"img\"><noscript></noscript><use xlink:href=\"#audio\"></use><noscript></noscript></svg></span></button></span></span></div></div></div></div><div aria-label=\"Term\" class=\"SetPageTerms-term\"><div class=\"SetPageTerm has-definitionText is-showing\"><div class=\"SetPageTerm-inner\"><div class=\"SetPageTerm-contentWrapper\"><div class=\"SetPageTerm-content\"><div class=\"SetPageTerm-side SetPageTerm-smallSide\"><div class=\"SetPageTerm-sideContent\"><span class=\"SetPageTerm-wordText\"><span class=\"TermText notranslate lang-en\">How would you write a regex that matches a sentence where the first word is either Alice, Bob, or Carol; the second word is either eats, pets, or throws; the third word is apples, cats, or baseballs; and the sentence ends with a period? This regex should be case-insensitive. It must match the following:<br><br>'Alice eats apples.'<br><br>'Bob pets cats.'<br><br>'Carol throws baseballs.'<br><br>'Alice throws Apples.'<br><br>'BOB EATS CATS.'<br><br>but not the following:<br><br>'Robocop eats apples.'<br><br>'ALICE THROWS FOOTBALLS.'<br><br>'Carol eats 7 cats.'</span></span></div></div><div class=\"SetPageTerm-side SetPageTerm-largeSide\"><div class=\"SetPageTerm-sideContent\"><a class=\"SetPageTerm-definitionText\"><span class=\"TermText notranslate lang-en\">re.compile(r'(Alice|Bob|Carol)\\s(eats|pets|throws)\\s(apples|cats|baseballs)\\.', re.IGNORECASE)</span></a></div></div></div></div><div class=\"SetPageTerm-actions\"><span class=\"SetPageTerm-star\"><span class=\"UIIconButton\"><button class=\"UIButton UIButton--borderless\" type=\"button\"><span class=\"UIButton-wrapper\"><svg aria-label=\"Star\" class=\"UIIcon UIIcon--star\" role=\"img\"><noscript></noscript><use xlink:href=\"#star\"></use><noscript></noscript></svg></span></button></span></span><span class=\"SetPageTerm-audio\"><span class=\"UIIconButton\"><button class=\"UIButton UIButton--borderless\" type=\"button\"><span class=\"UIButton-wrapper\"><svg aria-label=\"Audio\" class=\"UIIcon UIIcon--audio\" role=\"img\"><noscript></noscript><use xlink:href=\"#audio\"></use><noscript></noscript></svg></span></button></span></span></div></div></div></div></section>"
   ]
  },
  {
   "cell_type": "markdown",
   "metadata": {},
   "source": [
    "# 01)"
   ]
  },
  {
   "cell_type": "markdown",
   "metadata": {},
   "source": [
    "re.compile() function "
   ]
  },
  {
   "cell_type": "markdown",
   "metadata": {},
   "source": [
    "# 02)"
   ]
  },
  {
   "cell_type": "markdown",
   "metadata": {},
   "source": [
    "beacuse backslashes do not have to be escaped."
   ]
  },
  {
   "cell_type": "markdown",
   "metadata": {},
   "source": [
    "# 03)"
   ]
  },
  {
   "cell_type": "markdown",
   "metadata": {},
   "source": [
    "Match objects"
   ]
  },
  {
   "cell_type": "markdown",
   "metadata": {},
   "source": [
    "# 04)"
   ]
  },
  {
   "cell_type": "markdown",
   "metadata": {},
   "source": [
    "Group 0 => entire match <br>\n",
    "Group 1 => the first set of parentheses <br>\n",
    "Group 2 => the second set of parentheses <br>"
   ]
  },
  {
   "cell_type": "markdown",
   "metadata": {},
   "source": [
    "# 05)"
   ]
  },
  {
   "cell_type": "markdown",
   "metadata": {},
   "source": [
    "https://quizlet.com/393030255/chapter-7-flash-cards/"
   ]
  },
  {
   "cell_type": "code",
   "execution_count": null,
   "metadata": {},
   "outputs": [],
   "source": []
  },
  {
   "cell_type": "code",
   "execution_count": null,
   "metadata": {},
   "outputs": [],
   "source": []
  },
  {
   "cell_type": "code",
   "execution_count": null,
   "metadata": {},
   "outputs": [],
   "source": []
  },
  {
   "cell_type": "code",
   "execution_count": null,
   "metadata": {},
   "outputs": [],
   "source": []
  },
  {
   "cell_type": "code",
   "execution_count": null,
   "metadata": {},
   "outputs": [],
   "source": []
  },
  {
   "cell_type": "code",
   "execution_count": null,
   "metadata": {},
   "outputs": [],
   "source": []
  },
  {
   "cell_type": "raw",
   "metadata": {},
   "source": [
    "The re.search() method takes a regular expression pattern and a \n",
    "string and searches for that pattern within the string. If the search is successful, \n",
    "search() returns a match object or None otherwise. Therefore, the search is usually \n",
    "immediately followed by an if-statement to test if the search succeeded, as shown in the following \n",
    "example which searches for the pattern 'word:' followed by a 3 letter word (details below):\n",
    "\n",
    "\n",
    "str = 'an example word:cat!!'\n",
    "match = re.search(r'word:\\w\\w\\w', str)\n",
    "# If-statement after search() tests if it succeeded\n",
    "if match:\n",
    "  print 'found', match.group() ## 'found word:cat'\n",
    "else:\n",
    "  print 'did not find'"
   ]
  },
  {
   "cell_type": "code",
   "execution_count": 4,
   "metadata": {},
   "outputs": [
    {
     "ename": "AttributeError",
     "evalue": "'str' object has no attribute 'search'",
     "output_type": "error",
     "traceback": [
      "\u001b[1;31m---------------------------------------------------------------------------\u001b[0m",
      "\u001b[1;31mAttributeError\u001b[0m                            Traceback (most recent call last)",
      "\u001b[1;32m<ipython-input-4-6af23ceed177>\u001b[0m in \u001b[0;36m<module>\u001b[1;34m\u001b[0m\n\u001b[1;32m----> 1\u001b[1;33m \u001b[1;34m'asanka'\u001b[0m\u001b[1;33m.\u001b[0m\u001b[0msearch\u001b[0m\u001b[1;33m(\u001b[0m\u001b[1;34m'a'\u001b[0m\u001b[1;33m)\u001b[0m\u001b[1;33m\u001b[0m\u001b[1;33m\u001b[0m\u001b[0m\n\u001b[0m",
      "\u001b[1;31mAttributeError\u001b[0m: 'str' object has no attribute 'search'"
     ]
    }
   ],
   "source": [
    "'asanka'.search('a')"
   ]
  },
  {
   "cell_type": "markdown",
   "metadata": {},
   "source": [
    "# 04)"
   ]
  },
  {
   "cell_type": "raw",
   "metadata": {},
   "source": [
    "From a Match item, how do you get the actual strings that match the pattern?"
   ]
  },
  {
   "cell_type": "code",
   "execution_count": null,
   "metadata": {},
   "outputs": [],
   "source": []
  }
 ],
 "metadata": {
  "kernelspec": {
   "display_name": "Python 3",
   "language": "python",
   "name": "python3"
  },
  "language_info": {
   "codemirror_mode": {
    "name": "ipython",
    "version": 3
   },
   "file_extension": ".py",
   "mimetype": "text/x-python",
   "name": "python",
   "nbconvert_exporter": "python",
   "pygments_lexer": "ipython3",
   "version": "3.8.5"
  }
 },
 "nbformat": 4,
 "nbformat_minor": 4
}
