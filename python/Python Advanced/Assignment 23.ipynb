{
 "cells": [
  {
   "cell_type": "markdown",
   "metadata": {},
   "source": [
    "Q1. If you have any, what are your choices for increasing the comparison between different figures on\n",
    "the same graph?\n",
    "\n",
    "Q2. Can you explain the benefit of compound interest over a higher rate of interest that does not\n",
    "compound after reading this chapter?\n",
    "\n",
    "Q3. What is a histogram, exactly? Name a numpy method for creating such a graph.\n",
    "\n",
    "Q4. If necessary, how do you change the aspect ratios between the X and Y axes?\n",
    "\n",
    "Q5. Compare and contrast the three types of array multiplication between two numpy arrays: dot\n",
    "product, outer product, and regular multiplication of two numpy arrays.\n",
    "\n",
    "Q6. Before you buy a home, which numpy function will you use to measure your monthly mortgage\n",
    "payment?\n",
    "\n",
    "Q7. Can string data be stored in numpy arrays? If so, list at least one restriction that applies to this\n",
    "data."
   ]
  },
  {
   "cell_type": "markdown",
   "metadata": {},
   "source": [
    "https://drive.google.com/file/d/1kmoQCDG0LkULc_y3PM0DZnc59yevjXZM/view"
   ]
  },
  {
   "cell_type": "markdown",
   "metadata": {},
   "source": [
    "# 1)"
   ]
  },
  {
   "cell_type": "markdown",
   "metadata": {},
   "source": [
    " If you have any, what are your choices for increasing the comparison between different figures on the same graph?"
   ]
  },
  {
   "cell_type": "code",
   "execution_count": null,
   "metadata": {},
   "outputs": [],
   "source": []
  },
  {
   "cell_type": "markdown",
   "metadata": {},
   "source": [
    "# 2)"
   ]
  },
  {
   "cell_type": "markdown",
   "metadata": {},
   "source": [
    "Can you explain the benefit of compound interest over a higher rate of interest that does not compound after reading this chapter?"
   ]
  },
  {
   "cell_type": "code",
   "execution_count": null,
   "metadata": {},
   "outputs": [],
   "source": []
  }
 ],
 "metadata": {
  "kernelspec": {
   "display_name": "Python 3",
   "language": "python",
   "name": "python3"
  },
  "language_info": {
   "codemirror_mode": {
    "name": "ipython",
    "version": 3
   },
   "file_extension": ".py",
   "mimetype": "text/x-python",
   "name": "python",
   "nbconvert_exporter": "python",
   "pygments_lexer": "ipython3",
   "version": "3.8.5"
  }
 },
 "nbformat": 4,
 "nbformat_minor": 4
}
