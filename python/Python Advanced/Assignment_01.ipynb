{
  "nbformat": 4,
  "nbformat_minor": 0,
  "metadata": {
    "kernelspec": {
      "display_name": "Python 3",
      "language": "python",
      "name": "python3"
    },
    "language_info": {
      "codemirror_mode": {
        "name": "ipython",
        "version": 3
      },
      "file_extension": ".py",
      "mimetype": "text/x-python",
      "name": "python",
      "nbconvert_exporter": "python",
      "pygments_lexer": "ipython3",
      "version": "3.8.5"
    },
    "colab": {
      "name": "Assignment 01.ipynb",
      "provenance": []
    }
  },
  "cells": [
    {
      "cell_type": "markdown",
      "metadata": {
        "id": "zEuJ3RKiSCpM"
      },
      "source": [
        "# 01)"
      ]
    },
    {
      "cell_type": "code",
      "metadata": {
        "id": "jFZZB0XASCpP"
      },
      "source": [
        "value_map = {\n",
        "    '#' : 5,\n",
        "    'O' : 3,\n",
        "    'X' : 1,\n",
        "    '!' : -1,\n",
        "    '!!' : -3,\n",
        "    '!!!' : -5\n",
        "}"
      ],
      "execution_count": 1,
      "outputs": []
    },
    {
      "cell_type": "code",
      "metadata": {
        "id": "1F-cyUgGSCpV"
      },
      "source": [
        "def check_score(list_1):\n",
        "    sum = 0\n",
        "    for list_2 in list_1:\n",
        "        for char in list_2:                \n",
        "            sum = sum + value_map[char]\n",
        "    return sum if sum>0 else 0\n"
      ],
      "execution_count": 2,
      "outputs": []
    },
    {
      "cell_type": "code",
      "metadata": {
        "id": "oxsnqOGJSCpX",
        "outputId": "7a886a6b-0314-40cb-8e75-1e0f992beb41",
        "colab": {
          "base_uri": "https://localhost:8080/"
        }
      },
      "source": [
        "check_score([[\"#\", \"!\"], [\"!!\", \"X\"]])"
      ],
      "execution_count": 3,
      "outputs": [
        {
          "output_type": "execute_result",
          "data": {
            "text/plain": [
              "2"
            ]
          },
          "metadata": {},
          "execution_count": 3
        }
      ]
    },
    {
      "cell_type": "code",
      "metadata": {
        "id": "7ULHQtkRSCpb",
        "outputId": "3384dba7-dd71-4351-d9df-b0a316efeec1",
        "colab": {
          "base_uri": "https://localhost:8080/"
        }
      },
      "source": [
        "check_score([[\"#\", \"!\"], [\"!!\", \"!!!\"]])"
      ],
      "execution_count": 4,
      "outputs": [
        {
          "output_type": "execute_result",
          "data": {
            "text/plain": [
              "0"
            ]
          },
          "metadata": {},
          "execution_count": 4
        }
      ]
    },
    {
      "cell_type": "markdown",
      "metadata": {
        "id": "hNen8bY9SCpd"
      },
      "source": [
        "# 02)"
      ]
    },
    {
      "cell_type": "code",
      "metadata": {
        "id": "0dpoRDgxSCpg"
      },
      "source": [
        "def combinations(*args):\n",
        "    output = 1\n",
        "    for num in args:\n",
        "      output = output*num\n",
        "    print(output)"
      ],
      "execution_count": 5,
      "outputs": []
    },
    {
      "cell_type": "code",
      "metadata": {
        "id": "QSmsqWjLSCpi",
        "outputId": "f37f9774-b68d-424f-f1df-45c30d6b0a8c",
        "colab": {
          "base_uri": "https://localhost:8080/"
        }
      },
      "source": [
        "combinations(1,2,32)"
      ],
      "execution_count": 6,
      "outputs": [
        {
          "output_type": "stream",
          "name": "stdout",
          "text": [
            "64\n"
          ]
        }
      ]
    },
    {
      "cell_type": "markdown",
      "metadata": {
        "id": "z11skFCZSCpk"
      },
      "source": [
        "# 3)"
      ]
    },
    {
      "cell_type": "code",
      "metadata": {
        "id": "dRQNVTkbSCpl"
      },
      "source": [
        "char_to_dots = { 'A': '.-', 'B': '-...', 'C': '-.-.', 'D': '-..', 'E': '.', 'F': '..-.', 'G': '--.', 'H': '....', 'I': '..', 'J': '.---', 'K': '-.-', 'L': '.-..', 'M': '--', 'N': '-.', 'O': '---', 'P': '.--.', 'Q': '--.-', 'R': '.-.', 'S': '...', 'T': '-', 'U': '..-', 'V': '...-', 'W': '.--', 'X': '-..-', 'Y': '-.--', 'Z': '--..', ' ': ' ', '0': '-----', '1': '.----', '2': '..---', '3': '...--', '4': '....-', '5': '.....', '6': '-....', '7': '--...', '8': '---..', '9': '----.', '&': '.-...', \"'\": '.----.', '@': '.--.-.', ')': '-.--.-', '(': '-.--.', ':': '---...', ',': '--..--', '=': '-...-', '!': '-.-.--', '.': '.-.-.-', '-': '-....-', '+': '.-.-.', '\"': '.-..-.', '?': '..--..', '/': '-..-.' }"
      ],
      "execution_count": 7,
      "outputs": []
    },
    {
      "cell_type": "code",
      "metadata": {
        "id": "mXYeQUksSCpn"
      },
      "source": [
        "def encode_morse(word):\n",
        "    word = word.upper()\n",
        "    str = ''\n",
        "    for letter in word:\n",
        "        str += char_to_dots[letter]\n",
        "    return str"
      ],
      "execution_count": 8,
      "outputs": []
    },
    {
      "cell_type": "code",
      "metadata": {
        "id": "e7-QC6HnSCpo",
        "outputId": "f02f93cd-1280-4494-d68d-d4e09e1a977b",
        "colab": {
          "base_uri": "https://localhost:8080/",
          "height": 35
        }
      },
      "source": [
        "encode_morse('HELP ME!')"
      ],
      "execution_count": 9,
      "outputs": [
        {
          "output_type": "execute_result",
          "data": {
            "application/vnd.google.colaboratory.intrinsic+json": {
              "type": "string"
            },
            "text/plain": [
              "'......-...--. --.-.-.--'"
            ]
          },
          "metadata": {},
          "execution_count": 9
        }
      ]
    },
    {
      "cell_type": "code",
      "metadata": {
        "id": "pUf6bJf8SCpp",
        "outputId": "3afba77f-eda9-4e76-cb42-2e2d77bc7339",
        "colab": {
          "base_uri": "https://localhost:8080/",
          "height": 35
        }
      },
      "source": [
        "encode_morse('Hellooo ')"
      ],
      "execution_count": 10,
      "outputs": [
        {
          "output_type": "execute_result",
          "data": {
            "application/vnd.google.colaboratory.intrinsic+json": {
              "type": "string"
            },
            "text/plain": [
              "'......-...-..--------- '"
            ]
          },
          "metadata": {},
          "execution_count": 10
        }
      ]
    },
    {
      "cell_type": "markdown",
      "metadata": {
        "id": "9OTbTLCOSCpp"
      },
      "source": [
        "# 04)"
      ]
    },
    {
      "cell_type": "code",
      "metadata": {
        "id": "pW_FtcAoSCpq",
        "outputId": "5dcb97f5-970a-485c-8c01-c4437a214dae",
        "colab": {
          "base_uri": "https://localhost:8080/"
        }
      },
      "source": [
        "def prime(n):\n",
        "    if (n==1):\n",
        "        return False\n",
        "    elif (n==2):\n",
        "        return True;\n",
        "    else:\n",
        "        for x in range(2,n):\n",
        "            if(n % x==0):\n",
        "                return False\n",
        "        return True             \n",
        "print(prime(7))"
      ],
      "execution_count": 11,
      "outputs": [
        {
          "output_type": "stream",
          "name": "stdout",
          "text": [
            "True\n"
          ]
        }
      ]
    },
    {
      "cell_type": "code",
      "metadata": {
        "id": "ppPFQBtxSCpq"
      },
      "source": [
        ""
      ],
      "execution_count": 11,
      "outputs": []
    },
    {
      "cell_type": "markdown",
      "metadata": {
        "id": "ANut-lMBSCpr"
      },
      "source": [
        "# 05)"
      ]
    },
    {
      "cell_type": "code",
      "metadata": {
        "id": "L31bRIGZSCpr"
      },
      "source": [
        "import string"
      ],
      "execution_count": 12,
      "outputs": []
    },
    {
      "cell_type": "code",
      "metadata": {
        "id": "9Gj496kpSCps"
      },
      "source": [
        "def to_boolean_list(word):\n",
        "    word = word.lower()\n",
        "    bool_list = []\n",
        "    for alphebet in word:\n",
        "        index = string.ascii_lowercase.index(alphebet)+1\n",
        "        bool_list.append(bool(index%2))\n",
        "    return bool_list"
      ],
      "execution_count": 13,
      "outputs": []
    },
    {
      "cell_type": "code",
      "metadata": {
        "id": "4fHfIRxESCps",
        "outputId": "a866f433-64f3-4498-897e-02e7591fa833",
        "colab": {
          "base_uri": "https://localhost:8080/"
        }
      },
      "source": [
        "to_boolean_list('loves')"
      ],
      "execution_count": 14,
      "outputs": [
        {
          "output_type": "execute_result",
          "data": {
            "text/plain": [
              "[False, True, False, True, True]"
            ]
          },
          "metadata": {},
          "execution_count": 14
        }
      ]
    },
    {
      "cell_type": "code",
      "metadata": {
        "id": "ti5bu8meSCpt",
        "outputId": "1baa3daa-d92c-4c89-e0b8-05390c85f29f",
        "colab": {
          "base_uri": "https://localhost:8080/"
        }
      },
      "source": [
        "to_boolean_list('tesh')"
      ],
      "execution_count": 15,
      "outputs": [
        {
          "output_type": "execute_result",
          "data": {
            "text/plain": [
              "[False, True, True, False]"
            ]
          },
          "metadata": {},
          "execution_count": 15
        }
      ]
    },
    {
      "cell_type": "code",
      "metadata": {
        "id": "Xwv_BeZvSCpu"
      },
      "source": [
        ""
      ],
      "execution_count": 15,
      "outputs": []
    }
  ]
}