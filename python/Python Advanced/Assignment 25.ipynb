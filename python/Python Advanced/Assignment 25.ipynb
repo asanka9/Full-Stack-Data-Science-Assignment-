{
 "cells": [
  {
   "cell_type": "markdown",
   "metadata": {},
   "source": [
    "Q1. What is the distinction between a numpy array and a pandas data frame? Is there a way to\n",
    "convert between the two if there is?\n",
    "\n",
    "Q2. What can go wrong when an user enters in a stock-ticker symbol, and how do you handle it?\n",
    "\n",
    "Q3. Identify some of the plotting techniques that are used to produce a stock-market chart.\n",
    "\n",
    "Q4. Why is it essential to print a legend on a stock market chart?\n",
    "\n",
    "Q5. What is the best way to limit the length of a pandas data frame to less than a year?\n",
    "\n",
    "Q6. What is the definition of a 180-day moving average?\n",
    "\n",
    "Q7. Did the chapter&#39;s final example use &quot;indirect&quot; importing? If so, how exactly do you do it?"
   ]
  },
  {
   "cell_type": "markdown",
   "metadata": {},
   "source": [
    "https://drive.google.com/file/d/1XxWOeHFdsUDGdwEkHG7tpRdBTwzS7wqf/view"
   ]
  },
  {
   "cell_type": "markdown",
   "metadata": {},
   "source": [
    "# 01)"
   ]
  },
  {
   "cell_type": "markdown",
   "metadata": {},
   "source": [
    "What is the distinction between a numpy array and a pandas data frame? Is there a way to convert between the two if there is?"
   ]
  },
  {
   "cell_type": "markdown",
   "metadata": {},
   "source": [
    "<table class=\"alt\">\n",
    "<tbody><tr>\n",
    "\t<th>Pandas</th>\n",
    "\t<th>NumPy</th>\n",
    "</tr>\n",
    "<tr>\n",
    "\t<td>works with the tabular data</td>\n",
    "\t<td>works with numerical data</td>\n",
    "</tr>\n",
    "\n",
    "<tr>\n",
    "\t<td>Pandas has a better performance for 500K rows or more.</td>\n",
    "\t<td>NumPy has a better performance for 50K rows or less.</td>\n",
    "</tr>\n",
    "<tr>\n",
    "\t<td>Pandas consume large memory as compared to NumPy.</td>\n",
    "\t<td>NumPy consumes less memory as compared to Pandas.</td>\n",
    "</tr>\n",
    "\n",
    "<tr>\n",
    "\t<td>Pandas provides 2d table object called DataFrame.</td>\n",
    "\t<td>NumPy provides a multi-dimensional array.</td>\n",
    "</tr>\n",
    "</tbody></table>"
   ]
  },
  {
   "cell_type": "markdown",
   "metadata": {},
   "source": [
    "# 02)"
   ]
  },
  {
   "cell_type": "markdown",
   "metadata": {},
   "source": [
    "What can go wrong when an user enters in a stock-ticker symbol, and how do you handle it?"
   ]
  },
  {
   "cell_type": "code",
   "execution_count": null,
   "metadata": {},
   "outputs": [],
   "source": []
  },
  {
   "cell_type": "markdown",
   "metadata": {},
   "source": [
    "# 03)"
   ]
  },
  {
   "cell_type": "code",
   "execution_count": null,
   "metadata": {},
   "outputs": [],
   "source": []
  },
  {
   "cell_type": "code",
   "execution_count": null,
   "metadata": {},
   "outputs": [],
   "source": []
  },
  {
   "cell_type": "code",
   "execution_count": null,
   "metadata": {},
   "outputs": [],
   "source": []
  },
  {
   "cell_type": "code",
   "execution_count": null,
   "metadata": {},
   "outputs": [],
   "source": []
  },
  {
   "cell_type": "code",
   "execution_count": null,
   "metadata": {},
   "outputs": [],
   "source": []
  }
 ],
 "metadata": {
  "kernelspec": {
   "display_name": "Python 3",
   "language": "python",
   "name": "python3"
  },
  "language_info": {
   "codemirror_mode": {
    "name": "ipython",
    "version": 3
   },
   "file_extension": ".py",
   "mimetype": "text/x-python",
   "name": "python",
   "nbconvert_exporter": "python",
   "pygments_lexer": "ipython3",
   "version": "3.8.5"
  }
 },
 "nbformat": 4,
 "nbformat_minor": 4
}
