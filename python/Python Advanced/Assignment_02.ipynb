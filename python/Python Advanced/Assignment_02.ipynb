{
  "nbformat": 4,
  "nbformat_minor": 0,
  "metadata": {
    "kernelspec": {
      "display_name": "Python 3",
      "language": "python",
      "name": "python3"
    },
    "language_info": {
      "codemirror_mode": {
        "name": "ipython",
        "version": 3
      },
      "file_extension": ".py",
      "mimetype": "text/x-python",
      "name": "python",
      "nbconvert_exporter": "python",
      "pygments_lexer": "ipython3",
      "version": "3.8.5"
    },
    "colab": {
      "name": "Assignment 02.ipynb",
      "provenance": []
    }
  },
  "cells": [
    {
      "cell_type": "markdown",
      "metadata": {
        "id": "52YyLy1IVkgV"
      },
      "source": [
        "# 01)"
      ]
    },
    {
      "cell_type": "raw",
      "metadata": {
        "id": "KzBJONcWVkgX"
      },
      "source": [
        "*Classes* are blueprints that we can create instances \n",
        "with attributes and bound functionality. Classes support inheritance, metaclasses, and descriptors. but modules not supported for these one\n",
        "module is a single python file and we can acceess their methods/variable/methods by importing modules"
      ]
    },
    {
      "cell_type": "markdown",
      "metadata": {
        "id": "22jS2_0BVkgY"
      },
      "source": [
        "# 02)"
      ]
    },
    {
      "cell_type": "raw",
      "metadata": {
        "id": "g_isK0XdVkgZ"
      },
      "source": [
        "we can create class using class keywod and we can create instance using class name, \n",
        "if __init__ method accept arguments we need pass arguments"
      ]
    },
    {
      "cell_type": "code",
      "metadata": {
        "id": "xcR9G3ugVkga",
        "outputId": "454081bd-f6b0-44d4-e9f2-4327795d0ed0",
        "colab": {
          "base_uri": "https://localhost:8080/"
        }
      },
      "source": [
        "#Example for class\n",
        "class Car:\n",
        "    def __init__(self,name):\n",
        "        print(name)\n",
        "    \n",
        "    def park():\n",
        "        pass\n",
        "    \n",
        "# Example for creating instance with class\n",
        "car = Car('BMW I8')\n"
      ],
      "execution_count": 1,
      "outputs": [
        {
          "output_type": "stream",
          "name": "stdout",
          "text": [
            "BMW I8\n"
          ]
        }
      ]
    },
    {
      "cell_type": "markdown",
      "metadata": {
        "id": "xdMXwijwVkgf"
      },
      "source": [
        "# 03)"
      ]
    },
    {
      "cell_type": "raw",
      "metadata": {
        "id": "odI57JMmVkgg"
      },
      "source": [
        "we can create class attributes with in class "
      ]
    },
    {
      "cell_type": "code",
      "metadata": {
        "id": "VeZ3naGmVkgh",
        "outputId": "99e61796-504e-4f6d-be39-0332c3c64e41",
        "colab": {
          "base_uri": "https://localhost:8080/",
          "height": 35
        }
      },
      "source": [
        "# Example for create class variable\n",
        "class MyClass:\n",
        "    class_var = 'I am Class Variable'\n",
        "    \n",
        "MyClass.class_var"
      ],
      "execution_count": 2,
      "outputs": [
        {
          "output_type": "execute_result",
          "data": {
            "application/vnd.google.colaboratory.intrinsic+json": {
              "type": "string"
            },
            "text/plain": [
              "'I am Class Variable'"
            ]
          },
          "metadata": {},
          "execution_count": 2
        }
      ]
    },
    {
      "cell_type": "markdown",
      "metadata": {
        "id": "1nxpvoBzVkgh"
      },
      "source": [
        "# 04)"
      ]
    },
    {
      "cell_type": "raw",
      "metadata": {
        "id": "EiXUIXEuVkgi"
      },
      "source": [
        "we can create instance variable within instance method also instance variable can be create with __init__ method "
      ]
    },
    {
      "cell_type": "code",
      "metadata": {
        "id": "B5atgvf4Vkgj",
        "outputId": "b067a9a7-5f82-46dc-9b1e-8ce99313e6d9",
        "colab": {
          "base_uri": "https://localhost:8080/",
          "height": 35
        }
      },
      "source": [
        "# Example for create attribute variable with instance method\n",
        "class MyInstane:\n",
        "    def fun(self):\n",
        "        self.name = 'Asanka'\n",
        "\n",
        "m = MyInstane()\n",
        "m.fun()\n",
        "m.name"
      ],
      "execution_count": 3,
      "outputs": [
        {
          "output_type": "execute_result",
          "data": {
            "application/vnd.google.colaboratory.intrinsic+json": {
              "type": "string"
            },
            "text/plain": [
              "'Asanka'"
            ]
          },
          "metadata": {},
          "execution_count": 3
        }
      ]
    },
    {
      "cell_type": "code",
      "metadata": {
        "id": "HvVimjH5Vkgk",
        "outputId": "4cf91072-4a00-4b80-e3fc-89a9a0f27b1e",
        "colab": {
          "base_uri": "https://localhost:8080/",
          "height": 35
        }
      },
      "source": [
        "# Example for create instance attribute with __init__ method\n",
        "class Student:\n",
        "    def __init__(self,name):\n",
        "        self.name = name\n",
        "\n",
        "s = Student('Asanka')\n",
        "s.name"
      ],
      "execution_count": 4,
      "outputs": [
        {
          "output_type": "execute_result",
          "data": {
            "application/vnd.google.colaboratory.intrinsic+json": {
              "type": "string"
            },
            "text/plain": [
              "'Asanka'"
            ]
          },
          "metadata": {},
          "execution_count": 4
        }
      ]
    },
    {
      "cell_type": "markdown",
      "metadata": {
        "id": "sbL_QfmpWp3u"
      },
      "source": [
        "***05)***\n",
        "\n"
      ]
    },
    {
      "cell_type": "raw",
      "metadata": {
        "id": "mDJeVbaNVkgm"
      },
      "source": [
        "self keyword used to represent the instance of the class and we can access attributes and methods of the class in python"
      ]
    }
  ]
}