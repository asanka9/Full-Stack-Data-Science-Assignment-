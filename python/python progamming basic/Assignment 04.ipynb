{
 "cells": [
  {
   "cell_type": "markdown",
   "metadata": {},
   "source": [
    "# 01)"
   ]
  },
  {
   "cell_type": "code",
   "execution_count": 2,
   "metadata": {},
   "outputs": [
    {
     "name": "stdout",
     "output_type": "stream",
     "text": [
      "Input Number : 5\n",
      "Result is 120\n"
     ]
    }
   ],
   "source": [
    "num = int(input('Input Number : '))\n",
    "if(num>0):\n",
    "    if(num ==0):\n",
    "        print('Result is 0')\n",
    "    else:\n",
    "        res = 1\n",
    "        for i in range(2,num+1):\n",
    "            res = res * i\n",
    "        print(f'Result is {res}')\n",
    "    \n",
    "else:\n",
    "    print(\"please enter positive number\")"
   ]
  },
  {
   "cell_type": "markdown",
   "metadata": {},
   "source": [
    "# 02)"
   ]
  },
  {
   "cell_type": "code",
   "execution_count": 6,
   "metadata": {},
   "outputs": [
    {
     "name": "stdout",
     "output_type": "stream",
     "text": [
      "Input Number : 6\n",
      "6 x 1 = 6\n",
      "6 x 2 = 12\n",
      "6 x 3 = 18\n",
      "6 x 4 = 24\n",
      "6 x 5 = 30\n",
      "6 x 6 = 36\n",
      "6 x 7 = 42\n",
      "6 x 8 = 48\n",
      "6 x 9 = 54\n",
      "6 x 10 = 60\n",
      "6 x 11 = 66\n",
      "6 x 12 = 72\n"
     ]
    }
   ],
   "source": [
    "num = int(input('Input Number : '))\n",
    "\n",
    "for i in range(1, 13):\n",
    "    print(num, 'x', i, '=', num*i)"
   ]
  },
  {
   "cell_type": "markdown",
   "metadata": {},
   "source": [
    "# 03)"
   ]
  },
  {
   "cell_type": "code",
   "execution_count": 12,
   "metadata": {},
   "outputs": [
    {
     "name": "stdout",
     "output_type": "stream",
     "text": [
      "Enter number of time you want to genarate fibonic number : 10\n",
      "0\n",
      "1\n",
      "1\n",
      "2\n",
      "3\n",
      "5\n",
      "8\n",
      "13\n",
      "21\n",
      "34\n"
     ]
    }
   ],
   "source": [
    "terms = int(input('Enter number of time you want to genarate fibonic number : '))\n",
    "num_1 = 0\n",
    "num_2 = 1\n",
    "if(terms >0):\n",
    "    for i in range(terms):\n",
    "        print(num_1)\n",
    "        t = num_1\n",
    "        num_1 = num_1 + num_2\n",
    "        num_2 = t\n",
    "else:\n",
    "    print('Enter Valid VALUE')\n",
    "    "
   ]
  },
  {
   "cell_type": "markdown",
   "metadata": {},
   "source": [
    "# 04)"
   ]
  },
  {
   "cell_type": "code",
   "execution_count": 26,
   "metadata": {},
   "outputs": [
    {
     "name": "stdout",
     "output_type": "stream",
     "text": [
      "Enter number : 153\n",
      "Armstrong Number Detected\n"
     ]
    }
   ],
   "source": [
    "num = int(input('Enter number : '))\n",
    "len_ = len(str(num))\n",
    "sum =0\n",
    "for i in range(len_):\n",
    "    sum = sum + int(str(num)[i])**3\n",
    "if(num == sum):\n",
    "    print('Armstrong Number Detected')\n",
    "else:\n",
    "    print('Not a Armstrong Number')"
   ]
  },
  {
   "cell_type": "markdown",
   "metadata": {},
   "source": [
    "# 05)"
   ]
  },
  {
   "cell_type": "code",
   "execution_count": 28,
   "metadata": {},
   "outputs": [
    {
     "name": "stdout",
     "output_type": "stream",
     "text": [
      "Enter Bound limit : 100\n",
      "Enter Upper limit : 1000\n",
      "\n",
      "153\n",
      "370\n",
      "371\n",
      "407\n"
     ]
    }
   ],
   "source": [
    "def astroDetector(num):\n",
    "    len_ = len(str(num))\n",
    "    sum =0\n",
    "    for i in range(len_):\n",
    "        sum = sum + int(str(num)[i])**3\n",
    "    if(num == sum):\n",
    "        print(num)\n",
    "\n",
    "bound_limit = int(input('Enter Bound limit : '))        \n",
    "upper_limit = int(input('Enter Upper limit : '))\n",
    "print()\n",
    "\n",
    "for i in range(bound_limit,upper_limit):\n",
    "    astroDetector(i)"
   ]
  },
  {
   "cell_type": "markdown",
   "metadata": {},
   "source": [
    "# 06)"
   ]
  },
  {
   "cell_type": "code",
   "execution_count": 30,
   "metadata": {},
   "outputs": [
    {
     "name": "stdout",
     "output_type": "stream",
     "text": [
      "Enter number : 100\n",
      "5050\n"
     ]
    }
   ],
   "source": [
    "num = int(input('Enter number : '))\n",
    "sum = 0\n",
    "if(num > 0):\n",
    "    for i in range(num+1):\n",
    "        sum += i\n",
    "    print(sum)\n",
    "else:\n",
    "    print('Invalid Input')"
   ]
  },
  {
   "cell_type": "code",
   "execution_count": null,
   "metadata": {},
   "outputs": [],
   "source": []
  }
 ],
 "metadata": {
  "kernelspec": {
   "display_name": "Python 3",
   "language": "python",
   "name": "python3"
  },
  "language_info": {
   "codemirror_mode": {
    "name": "ipython",
    "version": 3
   },
   "file_extension": ".py",
   "mimetype": "text/x-python",
   "name": "python",
   "nbconvert_exporter": "python",
   "pygments_lexer": "ipython3",
   "version": "3.8.5"
  }
 },
 "nbformat": 4,
 "nbformat_minor": 4
}
