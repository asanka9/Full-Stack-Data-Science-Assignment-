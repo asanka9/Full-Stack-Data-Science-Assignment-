{
 "cells": [
  {
   "cell_type": "markdown",
   "metadata": {},
   "source": [
    "# 01)"
   ]
  },
  {
   "cell_type": "code",
   "execution_count": 1,
   "metadata": {},
   "outputs": [
    {
     "data": {
      "text/plain": [
       "True"
      ]
     },
     "execution_count": 1,
     "metadata": {},
     "output_type": "execute_result"
    }
   ],
   "source": [
    "def checkDisNum(num):\n",
    "    s = str(num)\n",
    "    total = 0\n",
    "    for i in range(1,len(s)+1):\n",
    "        total+=int(s[i-1])**i\n",
    "    return total == int(s)\n",
    "\n",
    "checkDisNum(175)"
   ]
  },
  {
   "cell_type": "code",
   "execution_count": 2,
   "metadata": {},
   "outputs": [
    {
     "data": {
      "text/plain": [
       "False"
      ]
     },
     "execution_count": 2,
     "metadata": {},
     "output_type": "execute_result"
    }
   ],
   "source": [
    "checkDisNum(25)"
   ]
  },
  {
   "cell_type": "markdown",
   "metadata": {},
   "source": [
    "# 02)"
   ]
  },
  {
   "cell_type": "code",
   "execution_count": 3,
   "metadata": {},
   "outputs": [
    {
     "name": "stdout",
     "output_type": "stream",
     "text": [
      "1\n",
      "2\n",
      "3\n",
      "4\n",
      "5\n",
      "6\n",
      "7\n",
      "8\n",
      "9\n",
      "89\n"
     ]
    }
   ],
   "source": [
    "def checkDisNum(num):\n",
    "    s = str(num)\n",
    "    total = 0\n",
    "    for i in range(1,len(s)+1):\n",
    "        total+=int(s[i-1])**i\n",
    "    return total == int(s)\n",
    "\n",
    "for i in range(1,100):\n",
    "    if(checkDisNum(i)):\n",
    "        print(i)"
   ]
  },
  {
   "cell_type": "markdown",
   "metadata": {},
   "source": [
    "# 03)"
   ]
  },
  {
   "cell_type": "code",
   "execution_count": 4,
   "metadata": {},
   "outputs": [],
   "source": [
    "def happy(num):\n",
    "    total = 0\n",
    "    for s in str(num):\n",
    "        total+=int(s)**2\n",
    "    if(total==1):\n",
    "        print('Happy Number')\n",
    "    elif(total==4):\n",
    "        print('Not a Happy Number')\n",
    "    else:\n",
    "        happy(total)"
   ]
  },
  {
   "cell_type": "code",
   "execution_count": 5,
   "metadata": {},
   "outputs": [
    {
     "name": "stdout",
     "output_type": "stream",
     "text": [
      "Happy Number\n"
     ]
    }
   ],
   "source": [
    "happy(82)"
   ]
  },
  {
   "cell_type": "code",
   "execution_count": 6,
   "metadata": {},
   "outputs": [
    {
     "name": "stdout",
     "output_type": "stream",
     "text": [
      "Not a Happy Number\n"
     ]
    }
   ],
   "source": [
    "happy(83)"
   ]
  },
  {
   "cell_type": "code",
   "execution_count": 7,
   "metadata": {},
   "outputs": [
    {
     "name": "stdout",
     "output_type": "stream",
     "text": [
      "Happy Number\n"
     ]
    }
   ],
   "source": [
    "happy(28)"
   ]
  },
  {
   "cell_type": "markdown",
   "metadata": {},
   "source": [
    "# 04)"
   ]
  },
  {
   "cell_type": "code",
   "execution_count": 8,
   "metadata": {},
   "outputs": [
    {
     "name": "stdout",
     "output_type": "stream",
     "text": [
      "1\n",
      "7\n",
      "10\n",
      "13\n",
      "19\n",
      "23\n",
      "28\n",
      "31\n",
      "32\n",
      "44\n",
      "49\n",
      "68\n",
      "70\n",
      "79\n",
      "82\n",
      "86\n",
      "91\n",
      "94\n",
      "97\n",
      "100\n"
     ]
    }
   ],
   "source": [
    "def happy(num):\n",
    "    total = 0\n",
    "    for s in str(num):\n",
    "        total+=int(s)**2\n",
    "    if(total==1):\n",
    "        print(x)\n",
    "    elif(total==4):\n",
    "        return False\n",
    "    else:\n",
    "        happy(total)\n",
    "\n",
    "for  i in range(1,101):\n",
    "    x = i\n",
    "    happy(i)"
   ]
  },
  {
   "cell_type": "markdown",
   "metadata": {},
   "source": [
    "# 05)"
   ]
  },
  {
   "cell_type": "code",
   "execution_count": 9,
   "metadata": {},
   "outputs": [
    {
     "name": "stdout",
     "output_type": "stream",
     "text": [
      "117 is a harshad number\n"
     ]
    }
   ],
   "source": [
    "def checkHarsh(num):\n",
    "    rem = sum = 0    \n",
    "    n = num;    \n",
    "    while(num > 0):    \n",
    "        rem = num%10;    \n",
    "        sum = sum + rem;    \n",
    "        num = num//10;     \n",
    "    if(n%sum == 0):    \n",
    "        print(str(n) + \" is a harshad number\");    \n",
    "    else:    \n",
    "        print(str(n) + \" is not a harshad number\"); \n",
    "        \n",
    "checkHarsh(117)"
   ]
  },
  {
   "cell_type": "markdown",
   "metadata": {},
   "source": [
    "# 06)"
   ]
  },
  {
   "cell_type": "code",
   "execution_count": 10,
   "metadata": {},
   "outputs": [
    {
     "name": "stdout",
     "output_type": "stream",
     "text": [
      "1 is a harshad number\n",
      "2 is a harshad number\n",
      "3 is a harshad number\n",
      "4 is a harshad number\n",
      "5 is a harshad number\n",
      "6 is a harshad number\n",
      "7 is a harshad number\n",
      "8 is a harshad number\n",
      "9 is a harshad number\n",
      "10 is a harshad number\n",
      "12 is a harshad number\n",
      "18 is a harshad number\n",
      "20 is a harshad number\n",
      "21 is a harshad number\n",
      "24 is a harshad number\n",
      "27 is a harshad number\n",
      "30 is a harshad number\n",
      "36 is a harshad number\n",
      "40 is a harshad number\n",
      "42 is a harshad number\n",
      "45 is a harshad number\n",
      "48 is a harshad number\n",
      "50 is a harshad number\n",
      "54 is a harshad number\n",
      "60 is a harshad number\n",
      "63 is a harshad number\n",
      "70 is a harshad number\n",
      "72 is a harshad number\n",
      "80 is a harshad number\n",
      "81 is a harshad number\n",
      "84 is a harshad number\n",
      "90 is a harshad number\n",
      "100 is a harshad number\n"
     ]
    }
   ],
   "source": [
    "def checkHarsh(num):\n",
    "    rem = sum = 0    \n",
    "    n = num;    \n",
    "    while(num > 0):    \n",
    "        rem = num%10;    \n",
    "        sum = sum + rem;    \n",
    "        num = num//10;     \n",
    "    if(n%sum == 0):    \n",
    "        print(str(n) + \" is a harshad number\");    \n",
    "\n",
    "\n",
    "for  i in range(1,101):\n",
    "    checkHarsh(i)"
   ]
  },
  {
   "cell_type": "code",
   "execution_count": null,
   "metadata": {},
   "outputs": [],
   "source": []
  }
 ],
 "metadata": {
  "kernelspec": {
   "display_name": "Python 3",
   "language": "python",
   "name": "python3"
  },
  "language_info": {
   "codemirror_mode": {
    "name": "ipython",
    "version": 3
   },
   "file_extension": ".py",
   "mimetype": "text/x-python",
   "name": "python",
   "nbconvert_exporter": "python",
   "pygments_lexer": "ipython3",
   "version": "3.8.5"
  }
 },
 "nbformat": 4,
 "nbformat_minor": 4
}
