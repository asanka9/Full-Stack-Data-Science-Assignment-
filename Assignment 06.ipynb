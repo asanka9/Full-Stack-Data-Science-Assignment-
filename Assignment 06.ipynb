{
 "cells": [
  {
   "cell_type": "markdown",
   "metadata": {},
   "source": [
    "# 01)"
   ]
  },
  {
   "cell_type": "markdown",
   "metadata": {},
   "source": [
    "we can not use charactors in string. for using charactors we can use escapes "
   ]
  },
  {
   "cell_type": "markdown",
   "metadata": {},
   "source": [
    "\\' ->\tSingle Quote <br>\n",
    "\\\\ ->\tBackslash <br>\n",
    "\\n ->\tNew Line <br>\n",
    "\\r ->\tCarriage Return <br>\n",
    "\\t ->\tTab <br>\n",
    "\\b ->\tBackspace <br>\n",
    "\\f ->\tForm Feed <br>\n",
    "\\ooo ->\tOctal value <br>\n",
    "\\xhh ->\tHex value"
   ]
  },
  {
   "cell_type": "raw",
   "metadata": {},
   "source": [
    "How to use :"
   ]
  },
  {
   "cell_type": "code",
   "execution_count": 1,
   "metadata": {},
   "outputs": [
    {
     "ename": "SyntaxError",
     "evalue": "invalid syntax (<ipython-input-1-b86419fc16b1>, line 1)",
     "output_type": "error",
     "traceback": [
      "\u001b[1;36m  File \u001b[1;32m\"<ipython-input-1-b86419fc16b1>\"\u001b[1;36m, line \u001b[1;32m1\u001b[0m\n\u001b[1;33m    \"My name is  \"Asanka\"\"\u001b[0m\n\u001b[1;37m                  ^\u001b[0m\n\u001b[1;31mSyntaxError\u001b[0m\u001b[1;31m:\u001b[0m invalid syntax\n"
     ]
    }
   ],
   "source": [
    "\"My name is  \"Asanka\"\""
   ]
  },
  {
   "cell_type": "code",
   "execution_count": 2,
   "metadata": {},
   "outputs": [
    {
     "data": {
      "text/plain": [
       "'My name is  \"Asanka\"'"
      ]
     },
     "execution_count": 2,
     "metadata": {},
     "output_type": "execute_result"
    }
   ],
   "source": [
    "# Handle above error with escapes\n",
    "\"My name is  \\\"Asanka\\\"\""
   ]
  },
  {
   "cell_type": "markdown",
   "metadata": {},
   "source": [
    "# 02)"
   ]
  },
  {
   "cell_type": "markdown",
   "metadata": {},
   "source": [
    "What do the escape characters n and t stand for?"
   ]
  },
  {
   "cell_type": "markdown",
   "metadata": {},
   "source": [
    "t is for tab and n for new line"
   ]
  },
  {
   "cell_type": "code",
   "execution_count": 3,
   "metadata": {},
   "outputs": [
    {
     "name": "stdout",
     "output_type": "stream",
     "text": [
      "inueron\tAI\n"
     ]
    }
   ],
   "source": [
    "print('inueron\\tAI')"
   ]
  },
  {
   "cell_type": "code",
   "execution_count": 4,
   "metadata": {},
   "outputs": [
    {
     "name": "stdout",
     "output_type": "stream",
     "text": [
      "inueron\n",
      "AI\n"
     ]
    }
   ],
   "source": [
    "print('inueron\\nAI')"
   ]
  },
  {
   "cell_type": "markdown",
   "metadata": {},
   "source": [
    "# 03)"
   ]
  },
  {
   "cell_type": "code",
   "execution_count": 5,
   "metadata": {},
   "outputs": [
    {
     "name": "stdout",
     "output_type": "stream",
     "text": [
      "hi\\\n"
     ]
    }
   ],
   "source": [
    "# We can use \\\\ for inserting backslash\n",
    "print('hi\\\\')"
   ]
  },
  {
   "cell_type": "markdown",
   "metadata": {},
   "source": [
    "# 04)"
   ]
  },
  {
   "cell_type": "markdown",
   "metadata": {},
   "source": [
    "No this is  not correct string value we can not use charactors in string there for we need to use escap for include charactors\n",
    "but '|' is not correct escape correct one is '\\'"
   ]
  },
  {
   "cell_type": "code",
   "execution_count": 6,
   "metadata": {},
   "outputs": [
    {
     "data": {
      "text/plain": [
       "\"How's Moving Castle\""
      ]
     },
     "execution_count": 6,
     "metadata": {},
     "output_type": "execute_result"
    }
   ],
   "source": [
    "'How\\'s Moving Castle'"
   ]
  },
  {
   "cell_type": "markdown",
   "metadata": {},
   "source": [
    "# 05)"
   ]
  },
  {
   "cell_type": "code",
   "execution_count": 7,
   "metadata": {},
   "outputs": [
    {
     "name": "stdout",
     "output_type": "stream",
     "text": [
      "Asanka\n"
     ]
    }
   ],
   "source": [
    "print('Asanka',end='\\n')"
   ]
  },
  {
   "cell_type": "markdown",
   "metadata": {},
   "source": [
    "# 06)"
   ]
  },
  {
   "cell_type": "markdown",
   "metadata": {},
   "source": [
    "'Hello, World'[1] => 'e'"
   ]
  },
  {
   "cell_type": "markdown",
   "metadata": {},
   "source": [
    "'Hello, World'[0:5] => 'Hello'"
   ]
  },
  {
   "cell_type": "markdown",
   "metadata": {},
   "source": [
    "'Hello, World'[:5] => 'Hello'"
   ]
  },
  {
   "cell_type": "markdown",
   "metadata": {},
   "source": [
    "'Hello, World'[3:] => 'lo, World'"
   ]
  },
  {
   "cell_type": "markdown",
   "metadata": {},
   "source": [
    "# 07)"
   ]
  },
  {
   "cell_type": "markdown",
   "metadata": {},
   "source": [
    "'Hello'.upper() => 'HELLO'"
   ]
  },
  {
   "cell_type": "markdown",
   "metadata": {},
   "source": [
    "'Hello'.upper().isupper()  => True"
   ]
  },
  {
   "cell_type": "markdown",
   "metadata": {},
   "source": [
    "'Hello'.upper().islower() => False"
   ]
  },
  {
   "cell_type": "markdown",
   "metadata": {},
   "source": [
    "# 08)"
   ]
  },
  {
   "cell_type": "markdown",
   "metadata": {},
   "source": [
    "'Remember, remember, the fifth of July.'.split() = > ['Remember,', 'remember,', 'the', 'fifth', 'of', 'July.']"
   ]
  },
  {
   "cell_type": "markdown",
   "metadata": {},
   "source": [
    "'-'.join('There can only one.'.split()) => 'There-can-only-one.'"
   ]
  },
  {
   "cell_type": "markdown",
   "metadata": {},
   "source": [
    "# 09)"
   ]
  },
  {
   "cell_type": "markdown",
   "metadata": {},
   "source": [
    "we can use  rjust(),ljust(), center() methods"
   ]
  },
  {
   "cell_type": "code",
   "execution_count": 8,
   "metadata": {},
   "outputs": [
    {
     "name": "stdout",
     "output_type": "stream",
     "text": [
      "The original string is : \n",
      " I love iNueron \n",
      "\n",
      "The right aligned string is : \n",
      "I love iNueron--------------------------\n"
     ]
    }
   ],
   "source": [
    "# example for rjust\n",
    "rstr = \"I love iNueron\"\n",
    "print (\"The original string is : \\n\", rstr, \"\\n\") \n",
    "# Printing the right aligned string \n",
    "# with \"-\" padding  \n",
    "print (\"The right aligned string is : \") \n",
    "print (rstr.ljust(40, '-')) "
   ]
  },
  {
   "cell_type": "code",
   "execution_count": 9,
   "metadata": {},
   "outputs": [
    {
     "name": "stdout",
     "output_type": "stream",
     "text": [
      "The original string is : \n",
      " I love iNueron \n",
      "\n",
      "The right aligned string is : \n",
      "--------------------------I love iNueron\n"
     ]
    }
   ],
   "source": [
    "# example for ljust\n",
    "rstr = \"I love iNueron\"\n",
    "print (\"The original string is : \\n\", rstr, \"\\n\") \n",
    "# Printing the right aligned string \n",
    "# with \"-\" padding  \n",
    "print (\"The right aligned string is : \") \n",
    "print (rstr.rjust(40, '-')) "
   ]
  },
  {
   "cell_type": "code",
   "execution_count": 10,
   "metadata": {},
   "outputs": [
    {
     "name": "stdout",
     "output_type": "stream",
     "text": [
      "The original string is : \n",
      " I love iNueron \n",
      "\n",
      "The right aligned string is : \n",
      "-------------I love iNueron-------------\n"
     ]
    }
   ],
   "source": [
    "# example for center\n",
    "rstr = \"I love iNueron\"\n",
    "print (\"The original string is : \\n\", rstr, \"\\n\") \n",
    "# Printing the right aligned string \n",
    "# with \"-\" padding  \n",
    "print (\"The right aligned string is : \") \n",
    "print (rstr.center(40, '-')) "
   ]
  },
  {
   "cell_type": "markdown",
   "metadata": {},
   "source": [
    "# 10)"
   ]
  },
  {
   "cell_type": "markdown",
   "metadata": {},
   "source": [
    "we can use strip() function for remove whitespace from leading and trailing"
   ]
  },
  {
   "cell_type": "code",
   "execution_count": 11,
   "metadata": {},
   "outputs": [
    {
     "data": {
      "text/plain": [
       "'Apple Bananna'"
      ]
     },
     "execution_count": 11,
     "metadata": {},
     "output_type": "execute_result"
    }
   ],
   "source": [
    "# example for strip()\n",
    "'   Apple Bananna     '.strip()"
   ]
  },
  {
   "cell_type": "markdown",
   "metadata": {},
   "source": [
    "we can use lstrip() function for remove white space from leading"
   ]
  },
  {
   "cell_type": "code",
   "execution_count": 12,
   "metadata": {},
   "outputs": [
    {
     "data": {
      "text/plain": [
       "'   Apple Bananna'"
      ]
     },
     "execution_count": 12,
     "metadata": {},
     "output_type": "execute_result"
    }
   ],
   "source": [
    "# example for rstrip()\n",
    "'   Apple Bananna     '.rstrip()"
   ]
  },
  {
   "cell_type": "markdown",
   "metadata": {},
   "source": [
    "we can use rstrip() function for remove white space from trailing"
   ]
  },
  {
   "cell_type": "code",
   "execution_count": 13,
   "metadata": {},
   "outputs": [
    {
     "data": {
      "text/plain": [
       "'Apple Bananna     '"
      ]
     },
     "execution_count": 13,
     "metadata": {},
     "output_type": "execute_result"
    }
   ],
   "source": [
    "# example for lstrip()\n",
    "'   Apple Bananna     '.lstrip()"
   ]
  },
  {
   "cell_type": "code",
   "execution_count": null,
   "metadata": {},
   "outputs": [],
   "source": []
  }
 ],
 "metadata": {
  "kernelspec": {
   "display_name": "Python 3",
   "language": "python",
   "name": "python3"
  },
  "language_info": {
   "codemirror_mode": {
    "name": "ipython",
    "version": 3
   },
   "file_extension": ".py",
   "mimetype": "text/x-python",
   "name": "python",
   "nbconvert_exporter": "python",
   "pygments_lexer": "ipython3",
   "version": "3.8.5"
  }
 },
 "nbformat": 4,
 "nbformat_minor": 4
}
